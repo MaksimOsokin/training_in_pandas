{
 "cells": [
  {
   "cell_type": "markdown",
   "id": "064a40f6",
   "metadata": {},
   "source": [
    "# Здравствуйте! \n",
    "\n",
    "Наличие сертификатов об окончании курсов не показывает фактические знания. Я продолжаю улучшать свои навыки и знания. \n",
    "Далее предлагаю ознакомиться с \"мини проектом\", в котором привожу решение простых типовых задач.\n",
    "\n",
    "С уважением\n",
    "Осокин Максим"
   ]
  },
  {
   "cell_type": "code",
   "execution_count": null,
   "id": "8e08d1cd",
   "metadata": {},
   "outputs": [],
   "source": []
  },
  {
   "cell_type": "code",
   "execution_count": null,
   "id": "7eeccb2f",
   "metadata": {},
   "outputs": [],
   "source": []
  },
  {
   "cell_type": "markdown",
   "id": "706d8374",
   "metadata": {},
   "source": [
    "Задачи\n",
    "\n",
    "    1)Загрузить два датасета user_data и logs. \n",
    "    2)Проверить размер таблицы, типы переменных, наличие пропущенных значений, описательную статистику. \n",
    "    3)Узнать сколько уникальных значений принимает переменная platform.\n",
    "    4)Какой клиент совершил больше всего успешных операций? \n",
    "    5)Если несколько пользователей совершили одинаковое число успешных действий, \n",
    "     перечислить их идентификаторы (client) через запятую и пробел в порядке возрастания.\n",
    "    6)С какой платформы осуществляется наибольшее количество успешных операций?\n",
    "    7)Какую платформу предпочитают премиальные клиенты?\n",
    "    8)Визуализировать распределение возраста клиентов в зависимости от типа клиента (премиум или нет).\n",
    "    9)Построить график распределения числа успешных операций.\n",
    "    10)Визуализировать число успешных операций, сделанных на платформе computer, в зависимости от возраста, используя sns.countplot (x – возраст, y – число успешных операций). Клиенты какого возраста совершили наибольшее количество успешных действий?"
   ]
  },
  {
   "cell_type": "code",
   "execution_count": null,
   "id": "9a8f02c7",
   "metadata": {},
   "outputs": [],
   "source": [
    "import pandas as pd"
   ]
  },
  {
   "cell_type": "code",
   "execution_count": 26,
   "id": "fbcb2ff7",
   "metadata": {},
   "outputs": [],
   "source": [
    "user_data = pd.read_csv('https://stepik.org/media/attachments/lesson/360348/user_data.csv', encoding='utf-8')\n",
    "logs = pd.read_csv('https://stepik.org/media/attachments/lesson/360348/logs.csv', encoding='utf-8')"
   ]
  },
  {
   "cell_type": "code",
   "execution_count": null,
   "id": "98b99914",
   "metadata": {},
   "outputs": [],
   "source": [
    "logs.head(5)\n",
    "# вывожу заголовки таблицы и 5 первых строк"
   ]
  },
  {
   "cell_type": "code",
   "execution_count": null,
   "id": "36da3376",
   "metadata": {},
   "outputs": [],
   "source": [
    "user_data.head(5)\n",
    "# вывожу заголовки таблицы и 5 первых строк"
   ]
  },
  {
   "cell_type": "markdown",
   "id": "1137be31",
   "metadata": {},
   "source": [
    "Чтобы узнать размер таблицы (датафрэйма), нужно обратиться к атрибуту shape\n",
    "**shape**\n",
    "возвращает кортеж (упрощённый список, относитесь к нему, как к списку), где сначала идёт число строк, а потом число колонок\n",
    "**выясним типы колонок**\n",
    "Для этого нужен атрибут\n",
    "**dtypes**\n",
    "быстро взглянуть на информацию о распределении данных\n",
    "можно использовать метод \n",
    "**describe**\n"
   ]
  },
  {
   "cell_type": "code",
   "execution_count": 5,
   "id": "b23dd660",
   "metadata": {},
   "outputs": [
    {
     "data": {
      "text/plain": [
       "count      4500\n",
       "unique        3\n",
       "top       phone\n",
       "freq       2753\n",
       "Name: platform, dtype: object"
      ]
     },
     "execution_count": 5,
     "metadata": {},
     "output_type": "execute_result"
    }
   ],
   "source": [
    "logs.platform.describe()\n",
    "# видим, переменная принемает 3 уникальных значения, тип данных object, количество строк 4500,\n",
    "# самое популярнрное значение phone "
   ]
  },
  {
   "cell_type": "markdown",
   "id": "33283664",
   "metadata": {},
   "source": [
    "Узнаю, какой клиент совершил больше всего успешных операций.\n",
    "\n",
    "Предпологаю, несколько пользователей совершили одинаковое число успешных действий, перечислю их идентификаторы (client) через запятую и пробел в порядке возрастания. "
   ]
  },
  {
   "cell_type": "markdown",
   "id": "2bb9afd7",
   "metadata": {},
   "source": [
    "'**query**'\n",
    "Этим методом отберу успешные значения, далее проведу группировку по клиентам, и посчитаю для каждого клиента число успешных операций с помощью \n",
    "'**groupby**';\n",
    "'**agg**';\n",
    "'**count**';\n",
    "'**sort_values**'.\n",
    "Вывожу список клиентов по убыванию (cверху топовые - совершившие максимальное количество покупок) \n",
    "Сохраняю результат в отдельную переменную **success_number**.\n",
    "Далее узнаю максимальное число успешных действий(покупок), результат сохраню в переменную **max_success**, отображает id клиента и количество совершенных им покупокупок.\n",
    "\n"
   ]
  },
  {
   "cell_type": "code",
   "execution_count": 6,
   "id": "30b21780",
   "metadata": {},
   "outputs": [],
   "source": [
    "success_number = logs.query('success == True') \\\n",
    "                    .groupby('client', as_index=False) \\\n",
    "                    .agg({'platform' : 'count'}) \\\n",
    "                    .rename(columns={'platform' : 'success_number'}) \\\n",
    "                    .sort_values('success_number', ascending=False)"
   ]
  },
  {
   "cell_type": "code",
   "execution_count": 7,
   "id": "85d75a22",
   "metadata": {},
   "outputs": [],
   "source": [
    "maximum_success = success_number.max()"
   ]
  },
  {
   "cell_type": "code",
   "execution_count": 8,
   "id": "4092587a",
   "metadata": {},
   "outputs": [
    {
     "data": {
      "text/plain": [
       "client            99993\n",
       "success_number       41\n",
       "dtype: int64"
      ]
     },
     "execution_count": 8,
     "metadata": {},
     "output_type": "execute_result"
    }
   ],
   "source": [
    "maximum_success"
   ]
  },
  {
   "cell_type": "markdown",
   "id": "b4d75114",
   "metadata": {},
   "source": [
    "Далее узнаю всех клиентов с числом максимальных покупок равных максимуму и извлеку id клиентов в список (successful_clients) отсортировав в порядке возрастания "
   ]
  },
  {
   "cell_type": "code",
   "execution_count": 9,
   "id": "29357e03",
   "metadata": {},
   "outputs": [],
   "source": [
    "successful_clients = success_number.query('success_number == @maximum_success.success_number') \\\n",
    "                                    .sort_values('client') \\\n",
    "                                    .client \\\n",
    "                                    .tolist()\n"
   ]
  },
  {
   "cell_type": "code",
   "execution_count": 10,
   "id": "a62047d6",
   "metadata": {},
   "outputs": [
    {
     "data": {
      "text/plain": [
       "[12179, 28719, 36165, 52870, 61468, 61473, 78349, 82563, 92584]"
      ]
     },
     "execution_count": 10,
     "metadata": {},
     "output_type": "execute_result"
    }
   ],
   "source": [
    "successful_clients\n",
    "# пользователи совершили одинаковое число успешных действий, \n",
    "     # вывел их идентификаторы (client) через запятую и пробел в порядке возрастания"
   ]
  },
  {
   "cell_type": "markdown",
   "id": "892e447d",
   "metadata": {},
   "source": [
    "Далее применяю метод **join**  для создания списка из строк.\n",
    "Т.е сейчас есть числа из которох создаю список, переведя числа в строки.\n"
   ]
  },
  {
   "cell_type": "code",
   "execution_count": 11,
   "id": "faa7375e",
   "metadata": {},
   "outputs": [
    {
     "data": {
      "text/plain": [
       "'12179, 28719, 36165, 52870, 61468, 61473, 78349, 82563, 92584'"
      ]
     },
     "execution_count": 11,
     "metadata": {},
     "output_type": "execute_result"
    }
   ],
   "source": [
    "', '. join([str(client) for client in successful_clients])"
   ]
  },
  {
   "cell_type": "markdown",
   "id": "c382f1d7",
   "metadata": {},
   "source": [
    "**Теперь использую более простой метод**\n"
   ]
  },
  {
   "cell_type": "code",
   "execution_count": 12,
   "id": "9d167027",
   "metadata": {},
   "outputs": [],
   "source": [
    "success_number2 = logs \\\n",
    "                       .groupby('client', as_index=False) \\\n",
    "                       .agg({'success' : 'sum'}) \\\n",
    "                       .rename(columns={'success' : 'success_number'}) \\\n",
    "                       .sort_values('success_number', ascending=False)"
   ]
  },
  {
   "cell_type": "code",
   "execution_count": 13,
   "id": "0d028ecb",
   "metadata": {},
   "outputs": [],
   "source": [
    "maximum_success2 = success_number2.max()       "
   ]
  },
  {
   "cell_type": "code",
   "execution_count": 14,
   "id": "840e8959",
   "metadata": {},
   "outputs": [],
   "source": [
    "successful_clients2 = success_number2.query('success_number == @maximum_success.success_number') \\\n",
    "                                    .sort_values('client') \\\n",
    "                                    .client \\\n",
    "                                    .tolist()"
   ]
  },
  {
   "cell_type": "code",
   "execution_count": 15,
   "id": "94c4533f",
   "metadata": {},
   "outputs": [
    {
     "data": {
      "text/plain": [
       "[12179, 28719, 36165, 52870, 61468, 61473, 78349, 82563, 92584]"
      ]
     },
     "execution_count": 15,
     "metadata": {},
     "output_type": "execute_result"
    }
   ],
   "source": [
    "successful_clients2\n",
    "# пользователи совершили одинаковое число успешных действий, \n",
    "     # вывел их идентификаторы (client) через запятую и пробел в порядке возрастания"
   ]
  },
  {
   "cell_type": "markdown",
   "id": "a0294ce2",
   "metadata": {},
   "source": [
    "Проверю расчеты, для того что бы убедиться в верности втрого метода решения."
   ]
  },
  {
   "cell_type": "code",
   "execution_count": 16,
   "id": "c39068c1",
   "metadata": {},
   "outputs": [
    {
     "data": {
      "text/plain": [
       "True"
      ]
     },
     "execution_count": 16,
     "metadata": {},
     "output_type": "execute_result"
    }
   ],
   "source": [
    "successful_clients2 == successful_clients\n",
    "# при сравнении методов получаю ответ \"True\" , следовательно результаты вычеслений равны."
   ]
  },
  {
   "cell_type": "code",
   "execution_count": 17,
   "id": "7288dda4",
   "metadata": {},
   "outputs": [],
   "source": [
    "# Сохраню полученные даныые id пользователей в новый фаил "
   ]
  },
  {
   "cell_type": "code",
   "execution_count": 18,
   "id": "d3df112d",
   "metadata": {},
   "outputs": [],
   "source": [
    "successful_clients_id = pd.DataFrame({'successful_clients_id': [12179, 28719, 36165, 52870, 61468, 61473, 78349, 82563, 92584]})"
   ]
  },
  {
   "cell_type": "code",
   "execution_count": 19,
   "id": "c214842d",
   "metadata": {},
   "outputs": [],
   "source": [
    "with pd.ExcelWriter('successful_clients_id.xlsx') as writer:successful_clients_id.to_excel(writer)    "
   ]
  },
  {
   "cell_type": "code",
   "execution_count": 20,
   "id": "df8f0a75",
   "metadata": {},
   "outputs": [
    {
     "name": "stderr",
     "output_type": "stream",
     "text": [
      "C:\\Users\\Professional\\anaconda3\\lib\\site-packages\\xlsxwriter\\workbook.py:338: UserWarning: Calling close() on already closed file.\n",
      "  warn(\"Calling close() on already closed file.\")\n"
     ]
    }
   ],
   "source": [
    "writer.save()\n",
    "# список сохранен в нашей рабочей папке в файле Excel имя successful_clients_id"
   ]
  },
  {
   "cell_type": "markdown",
   "id": "a8295007",
   "metadata": {},
   "source": [
    "**Узнаю с какой платформы осуществляется наибольшее количество успешных операций**"
   ]
  },
  {
   "cell_type": "code",
   "execution_count": 21,
   "id": "8b3f2a80",
   "metadata": {},
   "outputs": [],
   "source": [
    "successful_platform = logs.query('success == True').platform.value_counts().idxmax()"
   ]
  },
  {
   "cell_type": "code",
   "execution_count": 22,
   "id": "0763a394",
   "metadata": {},
   "outputs": [
    {
     "name": "stdout",
     "output_type": "stream",
     "text": [
      "phone\n"
     ]
    }
   ],
   "source": [
    "print(successful_platform)"
   ]
  },
  {
   "cell_type": "markdown",
   "id": "64b3ceb0",
   "metadata": {},
   "source": [
    "**Узнаю kакая платформа наиболее популярна среди премиальных клиентов**"
   ]
  },
  {
   "cell_type": "markdown",
   "id": "11ea83b8",
   "metadata": {},
   "source": [
    "Объединяю датафрэймы с клиентами и логами, затем выберу премиумных клиентов.\n",
    "Джоины делаю с помощью метода **merge**."
   ]
  },
  {
   "cell_type": "code",
   "execution_count": 23,
   "id": "46ad0055",
   "metadata": {},
   "outputs": [],
   "source": [
    "data = user_data.merge(logs)"
   ]
  },
  {
   "cell_type": "code",
   "execution_count": 24,
   "id": "6abf42b7",
   "metadata": {},
   "outputs": [
    {
     "data": {
      "text/plain": [
       "phone       246\n",
       "computer    150\n",
       "tablet       24\n",
       "Name: platform, dtype: int64"
      ]
     },
     "execution_count": 24,
     "metadata": {},
     "output_type": "execute_result"
    }
   ],
   "source": [
    "data.query('premium == True').platform.value_counts()"
   ]
  },
  {
   "cell_type": "markdown",
   "id": "9eacded4",
   "metadata": {},
   "source": [
    "phone       177\n",
    "computer    108\n",
    "tablet       18\n",
    "\n",
    "Из результа видим самую папулярную платформу 'phone'"
   ]
  },
  {
   "cell_type": "markdown",
   "id": "9aba8c03",
   "metadata": {},
   "source": [
    "**Визуализирую распределение возраста клиентов в зависимости от типа клиента (премиум или нет)**.\n",
    "\n",
    "\n",
    "\n",
    "\n",
    "Импортирую библиотеку для построения графиков и визуализации."
   ]
  },
  {
   "cell_type": "code",
   "execution_count": 25,
   "id": "934d567b",
   "metadata": {},
   "outputs": [],
   "source": [
    "import seaborn as sns,  numpy as np\n",
    "import numpy as np\n",
    "import matplotlib.pyplot as plt"
   ]
  },
  {
   "cell_type": "code",
   "execution_count": 26,
   "id": "4fe81d57",
   "metadata": {},
   "outputs": [],
   "source": [
    "not_premium_agg = data.query('premium == False').age\n",
    "\n",
    "premium_agg = data.query('premium == True').age"
   ]
  },
  {
   "cell_type": "code",
   "execution_count": 27,
   "id": "5027ae47",
   "metadata": {},
   "outputs": [
    {
     "data": {
      "text/plain": [
       "<AxesSubplot:xlabel='age (years)', ylabel='premium_level'>"
      ]
     },
     "execution_count": 27,
     "metadata": {},
     "output_type": "execute_result"
    },
    {
     "data": {
      "image/png": "[encoded data removed]",
      "text/plain": [
       "<Figure size 432x288 with 2 Axes>"
      ]
     },
     "metadata": {
      "needs_background": "light"
     },
     "output_type": "display_data"
    }
   ],
   "source": [
    "Figure, ax = plt.subplots(nrows=1, ncols=2)\n",
    "plt.xlabel('age (years)')\n",
    "plt.ylabel('premium_level')\n",
    "\n",
    "sns.histplot(data=not_premium_agg, ax=ax[0], kde=True, color='green') \n",
    "sns.histplot(data=premium_agg, ax=ax[1], kde=True, color='#A55555')\n"
   ]
  },
  {
   "cell_type": "code",
   "execution_count": 28,
   "id": "045cc20e",
   "metadata": {},
   "outputs": [
    {
     "ename": "SyntaxError",
     "evalue": "invalid syntax (Temp/ipykernel_7668/894306604.py, line 1)",
     "output_type": "error",
     "traceback": [
      "\u001b[1;36m  File \u001b[1;32m\"C:\\Users\\PROFES~1\\AppData\\Local\\Temp/ipykernel_7668/894306604.py\"\u001b[1;36m, line \u001b[1;32m1\u001b[0m\n\u001b[1;33m    На графике отображена гистограма не примеальных клиетов с осями: y= уровень примеальности и x= возрас\u001b[0m\n\u001b[1;37m       ^\u001b[0m\n\u001b[1;31mSyntaxError\u001b[0m\u001b[1;31m:\u001b[0m invalid syntax\n"
     ]
    }
   ],
   "source": [
    "На графике отображена гистограма не примеальных клиетов с осями: y= уровень примеальности и x= возрас"
   ]
  },
  {
   "cell_type": "code",
   "execution_count": null,
   "id": "c0878107",
   "metadata": {},
   "outputs": [],
   "source": [
    "sns.displot(not_premium_agg)"
   ]
  },
  {
   "cell_type": "markdown",
   "id": "174ade76",
   "metadata": {},
   "source": [
    "На графике отображена гистограма примеальных клиетов с осями: y = уровень примеальности и x = возрас"
   ]
  },
  {
   "cell_type": "code",
   "execution_count": null,
   "id": "c842204d",
   "metadata": {},
   "outputs": [],
   "source": [
    "sns.displot(premium_agg)"
   ]
  },
  {
   "cell_type": "markdown",
   "id": "19fc4e2b",
   "metadata": {},
   "source": [
    "Теперь построю график распределения числа успешных операций: \n",
    "\n",
    "    x – число успешных операций\n",
    "    y – число клиентов, совершивших столько успешных операций"
   ]
  },
  {
   "cell_type": "code",
   "execution_count": null,
   "id": "1f4e33a5",
   "metadata": {},
   "outputs": [],
   "source": [
    "client_vr_success_number = data.groupby('client') \\\n",
    "                                .agg({'success' : 'sum'})"
   ]
  },
  {
   "cell_type": "code",
   "execution_count": null,
   "id": "1d8bb1c9",
   "metadata": {},
   "outputs": [],
   "source": [
    "sns.histplot(client_vr_success_number)"
   ]
  },
  {
   "cell_type": "code",
   "execution_count": null,
   "id": "09ebc8e4",
   "metadata": {},
   "outputs": [],
   "source": [
    "client_vr_success_number.value_counts()"
   ]
  },
  {
   "cell_type": "raw",
   "id": "781c4e84",
   "metadata": {},
   "source": [
    "На графике \"client_vr_success_number\" видим как часто встречаюся выражения.\n",
    "\n",
    "25051 клиентов совершили по 1 успешной операции\n",
    "850 клиентов совершили по 0 успешных операций\n",
    "42 клиента совершили по 2 успешные операции\n",
    "9 клиентов совершили по 41 успешной операции\n",
    "1 клиент совершил 3 успешные операции\n",
    "1 клиент совершил 40 супешных операций \n"
   ]
  },
  {
   "cell_type": "markdown",
   "id": "ce4ec61a",
   "metadata": {},
   "source": [
    "Визуализирую число успешных операций, сделанных на платформе computer, в зависимости от возраста.\n",
    "По оси x – возраст, y – число успешных операций. \n",
    "Расчитаю, клиенты какого возраста совершили наибольшее количество успешных действий?\n"
   ]
  },
  {
   "cell_type": "code",
   "execution_count": 29,
   "id": "bcfede8b",
   "metadata": {},
   "outputs": [],
   "source": [
    "age_vs_success_number = data.query('platform == \"computer\"') \\\n",
    "                            .groupby('age', as_index=False ) \\\n",
    "                            .agg({'success' : 'sum' })"
   ]
  },
  {
   "cell_type": "code",
   "execution_count": 30,
   "id": "20275b72",
   "metadata": {},
   "outputs": [
    {
     "data": {
      "text/plain": [
       "<AxesSubplot:xlabel='age', ylabel='success'>"
      ]
     },
     "execution_count": 30,
     "metadata": {},
     "output_type": "execute_result"
    },
    {
     "data": {
      "image/png": "[encoded data removed]",
      "text/plain": [
       "<Figure size 960x720 with 1 Axes>"
      ]
     },
     "metadata": {
      "needs_background": "light"
     },
     "output_type": "display_data"
    }
   ],
   "source": [
    "plt.figure(figsize=(12 , 9), dpi=80)\n",
    "sns.barplot(x='age', y='success', data=age_vs_success_number)"
   ]
  },
  {
   "cell_type": "code",
   "execution_count": 32,
   "id": "68e09789",
   "metadata": {},
   "outputs": [
    {
     "data": {
      "text/plain": [
       "<Figure size 432x288 with 0 Axes>"
      ]
     },
     "metadata": {},
     "output_type": "display_data"
    }
   ],
   "source": [
    "plt.savefig('age_vs_success_number.jpg', dpi=80)"
   ]
  },
  {
   "cell_type": "markdown",
   "id": "b46e5215",
   "metadata": {},
   "source": [
    "***Рассмотрю еще один способ решения***"
   ]
  },
  {
   "cell_type": "code",
   "execution_count": 33,
   "id": "152729e0",
   "metadata": {},
   "outputs": [],
   "source": [
    "computer_success = data.query('platform == \"computer\" and success == True')"
   ]
  },
  {
   "cell_type": "code",
   "execution_count": 34,
   "id": "ea463be9",
   "metadata": {},
   "outputs": [
    {
     "name": "stderr",
     "output_type": "stream",
     "text": [
      "C:\\Users\\Professional\\anaconda3\\lib\\site-packages\\seaborn\\_decorators.py:36: FutureWarning: Pass the following variable as a keyword arg: x. From version 0.12, the only valid positional argument will be `data`, and passing other arguments without an explicit keyword will result in an error or misinterpretation.\n",
      "  warnings.warn(\n"
     ]
    },
    {
     "data": {
      "text/plain": [
       "<AxesSubplot:xlabel='age', ylabel='count'>"
      ]
     },
     "execution_count": 34,
     "metadata": {},
     "output_type": "execute_result"
    },
    {
     "data": {
      "image/png": "[encoded data removed]",
      "text/plain": [
       "<Figure size 960x720 with 1 Axes>"
      ]
     },
     "metadata": {
      "needs_background": "light"
     },
     "output_type": "display_data"
    }
   ],
   "source": [
    "plt.figure(figsize=(12 , 9), dpi=80)\n",
    "sns.countplot(computer_success.age)"
   ]
  },
  {
   "cell_type": "markdown",
   "id": "6a5e9c9f",
   "metadata": {},
   "source": [
    "***Сохраню полученный график в фаил *** "
   ]
  },
  {
   "cell_type": "code",
   "execution_count": 35,
   "id": "f72117eb",
   "metadata": {},
   "outputs": [
    {
     "data": {
      "text/plain": [
       "<Figure size 432x288 with 0 Axes>"
      ]
     },
     "metadata": {},
     "output_type": "display_data"
    }
   ],
   "source": [
    "plt.savefig('computer_success.jpg')"
   ]
  },
  {
   "cell_type": "markdown",
   "id": "dca049f5",
   "metadata": {},
   "source": [
    "Благодарю за уделенное время"
   ]
  }
 ],
 "metadata": {
  "kernelspec": {
   "display_name": "Python 3 (ipykernel)",
   "language": "python",
   "name": "python3"
  },
  "language_info": {
   "codemirror_mode": {
    "name": "ipython",
    "version": 3
   },
   "file_extension": ".py",
   "mimetype": "text/x-python",
   "name": "python",
   "nbconvert_exporter": "python",
   "pygments_lexer": "ipython3",
   "version": "3.9.7"
  }
 },
 "nbformat": 4,
 "nbformat_minor": 5
}
