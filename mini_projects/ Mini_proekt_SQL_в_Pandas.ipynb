{
 "cells": [
  {
   "cell_type": "markdown",
   "id": "b8b00521",
   "metadata": {},
   "source": [
    "#### Здравствуйте\n",
    "\n",
    "Продолжаю улучшать свои навыки и знания.\n",
    "\n",
    "**Предлагаю ознакомиться с мини проектом \"SQL в Pandas\".**"
   ]
  },
  {
   "cell_type": "code",
   "execution_count": 172,
   "id": "8dc0585e",
   "metadata": {},
   "outputs": [],
   "source": [
    "# В таблице user_actions сохраняются действия покупателей в интернет магазине, структура таблицы\n",
    "\n",
    "# user_id    - id пользователя\n",
    "# product_id - id товара\n",
    "# action     - действие, просмотр товара, сохранение в корзину, покупка\n",
    "# time       - время совершения события\n",
    "# date       - дата события\n",
    "\n",
    "# Для каждого дня рассчитайте, какой процент просмотров товаров завершился покупкой"
   ]
  },
  {
   "cell_type": "code",
   "execution_count": 173,
   "id": "7754f2a4",
   "metadata": {},
   "outputs": [],
   "source": [
    "import pandas as pd\n",
    "from pandasql import sqldf\n",
    "import numpy as np"
   ]
  },
  {
   "cell_type": "code",
   "execution_count": 174,
   "id": "52bf81c6",
   "metadata": {},
   "outputs": [],
   "source": [
    "#  Создам базу данных user_actions в которой сгенирую действия покупателей в интернет магазине,\n",
    "# данные логически верные, но не подойдут для выявления паттернов пользователей.\n",
    "\n",
    "# Cтруктура таблицы:\n",
    "#   user_id - id пользователя\n",
    "#   product_id - id товара\n",
    "#   action - действие, просмотр товара, сохранение в корзину, покупка\n",
    "#   time - время совершения события"
   ]
  },
  {
   "cell_type": "code",
   "execution_count": 175,
   "id": "377fe3a6",
   "metadata": {},
   "outputs": [],
   "source": [
    "all_user_ids = np.arange(1, 1001)\n",
    "all_product_ids = np.arange(1, 101)\n",
    "n = 10000\n",
    "\n",
    "# Сгенерировал масив 1000 пользователей и  100 товаров\n",
    "# n - к-во строк"
   ]
  },
  {
   "cell_type": "code",
   "execution_count": 176,
   "id": "bdb252bc",
   "metadata": {},
   "outputs": [],
   "source": [
    "user_ids    = np.random.choice(all_user_ids, n)\n",
    "product_ids = np.random.choice(all_product_ids, n)\n",
    "\n",
    "# с помощью функции random.choice сгенерирова  id и событий связанных с продуктами(с повторениями)\n",
    "\n",
    "start_date = pd.to_datetime('2022-01-01')\n",
    "\n",
    "# сгенерировал временную шкалу, выбрав дату старта\n",
    "\n",
    "times = pd.date_range(start_date, periods=n, freq='1min')\n",
    "\n",
    "# указал интервал времени между событиями"
   ]
  },
  {
   "cell_type": "code",
   "execution_count": 177,
   "id": "c17bfc46",
   "metadata": {},
   "outputs": [],
   "source": [
    "user_actions = pd.DataFrame({'user_id': user_ids, \n",
    "                             'product_id': product_ids, \n",
    "                             'time': times})\n",
    "\n",
    "#создал Dataframe из списка, испульзуя списки словарей в качестве входных данных, имена столбцов в качестве ключей."
   ]
  },
  {
   "cell_type": "code",
   "execution_count": 178,
   "id": "c37a4751",
   "metadata": {},
   "outputs": [],
   "source": [
    "user_actions['action'] = 'view'\n",
    "# добавил колонку action "
   ]
  },
  {
   "cell_type": "code",
   "execution_count": 179,
   "id": "eaa7bd4d",
   "metadata": {},
   "outputs": [
    {
     "data": {
      "text/html": [
       "<div>\n",
       "<style scoped>\n",
       "    .dataframe tbody tr th:only-of-type {\n",
       "        vertical-align: middle;\n",
       "    }\n",
       "\n",
       "    .dataframe tbody tr th {\n",
       "        vertical-align: top;\n",
       "    }\n",
       "\n",
       "    .dataframe thead th {\n",
       "        text-align: right;\n",
       "    }\n",
       "</style>\n",
       "<table border=\"1\" class=\"dataframe\">\n",
       "  <thead>\n",
       "    <tr style=\"text-align: right;\">\n",
       "      <th></th>\n",
       "      <th>user_id</th>\n",
       "      <th>product_id</th>\n",
       "      <th>time</th>\n",
       "      <th>action</th>\n",
       "    </tr>\n",
       "  </thead>\n",
       "  <tbody>\n",
       "    <tr>\n",
       "      <th>0</th>\n",
       "      <td>610</td>\n",
       "      <td>40</td>\n",
       "      <td>2022-01-01 00:00:00</td>\n",
       "      <td>view</td>\n",
       "    </tr>\n",
       "    <tr>\n",
       "      <th>1</th>\n",
       "      <td>875</td>\n",
       "      <td>40</td>\n",
       "      <td>2022-01-01 00:01:00</td>\n",
       "      <td>view</td>\n",
       "    </tr>\n",
       "    <tr>\n",
       "      <th>2</th>\n",
       "      <td>386</td>\n",
       "      <td>9</td>\n",
       "      <td>2022-01-01 00:02:00</td>\n",
       "      <td>view</td>\n",
       "    </tr>\n",
       "    <tr>\n",
       "      <th>3</th>\n",
       "      <td>335</td>\n",
       "      <td>17</td>\n",
       "      <td>2022-01-01 00:03:00</td>\n",
       "      <td>view</td>\n",
       "    </tr>\n",
       "    <tr>\n",
       "      <th>4</th>\n",
       "      <td>622</td>\n",
       "      <td>61</td>\n",
       "      <td>2022-01-01 00:04:00</td>\n",
       "      <td>view</td>\n",
       "    </tr>\n",
       "  </tbody>\n",
       "</table>\n",
       "</div>"
      ],
      "text/plain": [
       "   user_id  product_id                time action\n",
       "0      610          40 2022-01-01 00:00:00   view\n",
       "1      875          40 2022-01-01 00:01:00   view\n",
       "2      386           9 2022-01-01 00:02:00   view\n",
       "3      335          17 2022-01-01 00:03:00   view\n",
       "4      622          61 2022-01-01 00:04:00   view"
      ]
     },
     "execution_count": 179,
     "metadata": {},
     "output_type": "execute_result"
    }
   ],
   "source": [
    "user_actions.head()"
   ]
  },
  {
   "cell_type": "code",
   "execution_count": 180,
   "id": "6d69fbd4",
   "metadata": {},
   "outputs": [],
   "source": [
    "def generate_funel_actions(user_id, product_id, time):\n",
    "    to_cart = 0.2\n",
    "    to_purchase = 0.4\n",
    "    \n",
    "    df = pd.DataFrame()\n",
    "    \n",
    "    if np.random.binomial(1, to_cart, 1)[0]:\n",
    "        df = pd.DataFrame({\n",
    "                           'user_id'   : user_id, \n",
    "                           'product_id': product_id, \n",
    "                           'time'      : time + pd.Timedelta(5, unit='s'), \n",
    "                           'action'    : 'add to cart'}, index=[0])\n",
    "        \n",
    "        if np.random.binomial(1, to_purchase, 1)[0]:\n",
    "            df_purchase = pd.DataFrame({\n",
    "                           'user_id'   : user_id, \n",
    "                           'product_id': product_id, \n",
    "                           'time'      : time + pd.Timedelta(10, unit='s'), \n",
    "                           'action'    : 'purchase'}, index=[0])\n",
    "    \n",
    "            df = df.append(df_purchase)\n",
    "    return df\n",
    "\n",
    "# функция реализует алгоритм подбрасывания монетки \n",
    "# с вероятностью 0.2 пользователь помещает товар в корзину, после просмотра\n",
    "# с вероятностью 0.4 пользователь совершает покупку товаров которые он поместил в корзину\n",
    "# np.random.binomial возвращает массив на выходе, [0] -мы берем первый и единственный параметр, [1]-у функции означает размерность,\n",
    "# по условию биномиального распределения, функция создает запись о добавлении товара в корзину и запись времени этого события с интервалом на 5 секунд относительно просмотра\n",
    "# генерирую еще одно дейстивие, пользователь совершает покупку товара из козины с вероятностью 0.4 и создается запись действия с временным интервалом в 10 секунд\n",
    "# функция возвращается в начало df"
   ]
  },
  {
   "cell_type": "code",
   "execution_count": 192,
   "id": "53e854e7",
   "metadata": {},
   "outputs": [],
   "source": [
    "for i, row in user_actions.iterrows():\n",
    "    user_df = generate_funel_actions(row['user_id'], row['product_id'], row['time'])\n",
    "    user_actions = user_actions.append(user_df)\n",
    "    \n",
    "#  concat() подходит для обьединения df \n",
    "# iterrows() применить функцию к строкам "
   ]
  },
  {
   "cell_type": "code",
   "execution_count": 193,
   "id": "6fba22d5",
   "metadata": {},
   "outputs": [],
   "source": [
    "user_actions = user_actions.sort_values('time')"
   ]
  },
  {
   "cell_type": "code",
   "execution_count": 194,
   "id": "269b63f8",
   "metadata": {},
   "outputs": [],
   "source": [
    "user_actions['date'] = user_actions.time.dt.date"
   ]
  },
  {
   "cell_type": "code",
   "execution_count": 196,
   "id": "49e9fc6b",
   "metadata": {},
   "outputs": [
    {
     "data": {
      "text/html": [
       "<div>\n",
       "<style scoped>\n",
       "    .dataframe tbody tr th:only-of-type {\n",
       "        vertical-align: middle;\n",
       "    }\n",
       "\n",
       "    .dataframe tbody tr th {\n",
       "        vertical-align: top;\n",
       "    }\n",
       "\n",
       "    .dataframe thead th {\n",
       "        text-align: right;\n",
       "    }\n",
       "</style>\n",
       "<table border=\"1\" class=\"dataframe\">\n",
       "  <thead>\n",
       "    <tr style=\"text-align: right;\">\n",
       "      <th></th>\n",
       "      <th>user_id</th>\n",
       "      <th>product_id</th>\n",
       "      <th>time</th>\n",
       "      <th>action</th>\n",
       "      <th>date</th>\n",
       "    </tr>\n",
       "  </thead>\n",
       "  <tbody>\n",
       "    <tr>\n",
       "      <th>0</th>\n",
       "      <td>610</td>\n",
       "      <td>40</td>\n",
       "      <td>2022-01-01 00:00:00</td>\n",
       "      <td>view</td>\n",
       "      <td>2022-01-01</td>\n",
       "    </tr>\n",
       "    <tr>\n",
       "      <th>0</th>\n",
       "      <td>610</td>\n",
       "      <td>40</td>\n",
       "      <td>2022-01-01 00:00:05</td>\n",
       "      <td>add to cart</td>\n",
       "      <td>2022-01-01</td>\n",
       "    </tr>\n",
       "    <tr>\n",
       "      <th>1</th>\n",
       "      <td>875</td>\n",
       "      <td>40</td>\n",
       "      <td>2022-01-01 00:01:00</td>\n",
       "      <td>view</td>\n",
       "      <td>2022-01-01</td>\n",
       "    </tr>\n",
       "    <tr>\n",
       "      <th>0</th>\n",
       "      <td>875</td>\n",
       "      <td>40</td>\n",
       "      <td>2022-01-01 00:01:05</td>\n",
       "      <td>add to cart</td>\n",
       "      <td>2022-01-01</td>\n",
       "    </tr>\n",
       "    <tr>\n",
       "      <th>2</th>\n",
       "      <td>386</td>\n",
       "      <td>9</td>\n",
       "      <td>2022-01-01 00:02:00</td>\n",
       "      <td>view</td>\n",
       "      <td>2022-01-01</td>\n",
       "    </tr>\n",
       "  </tbody>\n",
       "</table>\n",
       "</div>"
      ],
      "text/plain": [
       "   user_id  product_id                time       action        date\n",
       "0      610          40 2022-01-01 00:00:00         view  2022-01-01\n",
       "0      610          40 2022-01-01 00:00:05  add to cart  2022-01-01\n",
       "1      875          40 2022-01-01 00:01:00         view  2022-01-01\n",
       "0      875          40 2022-01-01 00:01:05  add to cart  2022-01-01\n",
       "2      386           9 2022-01-01 00:02:00         view  2022-01-01"
      ]
     },
     "execution_count": 196,
     "metadata": {},
     "output_type": "execute_result"
    }
   ],
   "source": [
    "user_actions.head()"
   ]
  },
  {
   "cell_type": "code",
   "execution_count": 197,
   "id": "cd25c0bd",
   "metadata": {},
   "outputs": [],
   "source": [
    "# Для каждого дня рассчитайтаю, какой процент просмотров товаров завершился покупкой\n",
    "#\n",
    "#\n",
    "# "
   ]
  },
  {
   "cell_type": "code",
   "execution_count": 198,
   "id": "9dc82559",
   "metadata": {},
   "outputs": [],
   "source": [
    "q = \"\"\"SELECT date, \n",
    "              views, \n",
    "              carts, \n",
    "              purchases, \n",
    "              100 * purchases / views as purchase_percantage \n",
    "       FROM (\n",
    "           SELECT date, \n",
    "            count(case when action = 'view'        then 1 else NULL end) as views, \n",
    "            count(case when action = 'add to cart' then 1 else NULL end) as carts, \n",
    "            count(case when action = 'purchase'    then 1 else NULL end) as purchases \n",
    "           FROM user_actions \n",
    "           GROUP BY date);\"\"\""
   ]
  },
  {
   "cell_type": "code",
   "execution_count": 199,
   "id": "aa5251f0",
   "metadata": {},
   "outputs": [
    {
     "data": {
      "text/html": [
       "<div>\n",
       "<style scoped>\n",
       "    .dataframe tbody tr th:only-of-type {\n",
       "        vertical-align: middle;\n",
       "    }\n",
       "\n",
       "    .dataframe tbody tr th {\n",
       "        vertical-align: top;\n",
       "    }\n",
       "\n",
       "    .dataframe thead th {\n",
       "        text-align: right;\n",
       "    }\n",
       "</style>\n",
       "<table border=\"1\" class=\"dataframe\">\n",
       "  <thead>\n",
       "    <tr style=\"text-align: right;\">\n",
       "      <th></th>\n",
       "      <th>date</th>\n",
       "      <th>views</th>\n",
       "      <th>carts</th>\n",
       "      <th>purchases</th>\n",
       "      <th>purchase_percantage</th>\n",
       "    </tr>\n",
       "  </thead>\n",
       "  <tbody>\n",
       "    <tr>\n",
       "      <th>0</th>\n",
       "      <td>2022-01-01</td>\n",
       "      <td>1440</td>\n",
       "      <td>1178</td>\n",
       "      <td>424</td>\n",
       "      <td>29</td>\n",
       "    </tr>\n",
       "    <tr>\n",
       "      <th>1</th>\n",
       "      <td>2022-01-02</td>\n",
       "      <td>1440</td>\n",
       "      <td>1071</td>\n",
       "      <td>427</td>\n",
       "      <td>29</td>\n",
       "    </tr>\n",
       "    <tr>\n",
       "      <th>2</th>\n",
       "      <td>2022-01-03</td>\n",
       "      <td>1440</td>\n",
       "      <td>1120</td>\n",
       "      <td>440</td>\n",
       "      <td>30</td>\n",
       "    </tr>\n",
       "    <tr>\n",
       "      <th>3</th>\n",
       "      <td>2022-01-04</td>\n",
       "      <td>1440</td>\n",
       "      <td>1123</td>\n",
       "      <td>459</td>\n",
       "      <td>31</td>\n",
       "    </tr>\n",
       "    <tr>\n",
       "      <th>4</th>\n",
       "      <td>2022-01-05</td>\n",
       "      <td>1440</td>\n",
       "      <td>1100</td>\n",
       "      <td>435</td>\n",
       "      <td>30</td>\n",
       "    </tr>\n",
       "    <tr>\n",
       "      <th>5</th>\n",
       "      <td>2022-01-06</td>\n",
       "      <td>1440</td>\n",
       "      <td>1127</td>\n",
       "      <td>425</td>\n",
       "      <td>29</td>\n",
       "    </tr>\n",
       "    <tr>\n",
       "      <th>6</th>\n",
       "      <td>2022-01-07</td>\n",
       "      <td>1360</td>\n",
       "      <td>1101</td>\n",
       "      <td>471</td>\n",
       "      <td>34</td>\n",
       "    </tr>\n",
       "  </tbody>\n",
       "</table>\n",
       "</div>"
      ],
      "text/plain": [
       "         date  views  carts  purchases  purchase_percantage\n",
       "0  2022-01-01   1440   1178        424                   29\n",
       "1  2022-01-02   1440   1071        427                   29\n",
       "2  2022-01-03   1440   1120        440                   30\n",
       "3  2022-01-04   1440   1123        459                   31\n",
       "4  2022-01-05   1440   1100        435                   30\n",
       "5  2022-01-06   1440   1127        425                   29\n",
       "6  2022-01-07   1360   1101        471                   34"
      ]
     },
     "execution_count": 199,
     "metadata": {},
     "output_type": "execute_result"
    }
   ],
   "source": [
    "sqldf(q)"
   ]
  },
  {
   "cell_type": "markdown",
   "id": "c4d3c08e",
   "metadata": {},
   "source": [
    "##### Источники информации, применяемые в процессе решения\n",
    "\n",
    "* https://numpy.org/doc/stable/reference/random/generated/numpy.random.binomial.html\n",
    "* https://www.cyberforum.ru/python-tasks/thread2883132.html\n",
    "* https://www.dmitrymakarov.ru/python/random-11/\n",
    "* https://all-python.ru/osnovy/funktsii.html\n",
    "* https://pythonru.com/biblioteki/vozmozhnosti-obektov-index-v-pandas-pd-3\n",
    "* https://www.stackfinder.ru/questions/27644617/difference-between-n-and-size-parameters-in-np-random-binomialn-p-size-1000\n"
   ]
  },
  {
   "cell_type": "markdown",
   "id": "dc4c61a9",
   "metadata": {},
   "source": [
    "# Аналитическая записка\n",
    "\n",
    "### Итоги \n",
    "\n",
    "\n",
    "                                                                                                            С уважением,\n",
    "                                                                                                            Осокин Максим"
   ]
  }
 ],
 "metadata": {
  "kernelspec": {
   "display_name": "Python 3 (ipykernel)",
   "language": "python",
   "name": "python3"
  },
  "language_info": {
   "codemirror_mode": {
    "name": "ipython",
    "version": 3
   },
   "file_extension": ".py",
   "mimetype": "text/x-python",
   "name": "python",
   "nbconvert_exporter": "python",
   "pygments_lexer": "ipython3",
   "version": "3.9.7"
  }
 },
 "nbformat": 4,
 "nbformat_minor": 5
}
