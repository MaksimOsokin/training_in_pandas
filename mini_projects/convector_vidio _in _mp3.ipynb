{
 "cells": [
  {
   "cell_type": "raw",
   "id": "32826a8d",
   "metadata": {},
   "source": [
    "Здравствуете! В данном мини-проекте, произвожу извлечение аудио дорожки из видео файла. Для меня это оказалось полезным и удобным способом слушать легкие аудио подкасты."
   ]
  },
  {
   "cell_type": "raw",
   "id": "c4bdb86f",
   "metadata": {},
   "source": [
    "MoviePy - это модуль Python для редактирования видео, который можно использовать для базовых операций (таких как вырезание, объединение, вставка заголовков), компоновки видео (он же нелинейный монтаж), обработки видео или для создания дополнительных эффектов. Он может считывать и записывать наиболее распространенные видеоформаты, включая GIF."
   ]
  },
  {
   "cell_type": "code",
   "execution_count": null,
   "id": "05eee9bc",
   "metadata": {},
   "outputs": [],
   "source": [
    "import moviepy.editor\n",
    "from pathlib import Path"
   ]
  },
  {
   "cell_type": "code",
   "execution_count": 9,
   "id": "7f67624d",
   "metadata": {},
   "outputs": [],
   "source": [
    "vidio_file = Path('test_1.mp4')"
   ]
  },
  {
   "cell_type": "code",
   "execution_count": 12,
   "id": "1bb1ff75",
   "metadata": {},
   "outputs": [],
   "source": [
    "vidio = moviepy.editor.VideoFileClip(f\"{vidio_file}\")"
   ]
  },
  {
   "cell_type": "code",
   "execution_count": 11,
   "id": "e92fbf4f",
   "metadata": {},
   "outputs": [],
   "source": [
    "audio = vidio.audio"
   ]
  },
  {
   "cell_type": "code",
   "execution_count": 13,
   "id": "40864c87",
   "metadata": {},
   "outputs": [
    {
     "name": "stdout",
     "output_type": "stream",
     "text": [
      "MoviePy - Writing audio in test_1.mp3\n"
     ]
    },
    {
     "name": "stderr",
     "output_type": "stream",
     "text": [
      "                                                                                                                       "
     ]
    },
    {
     "name": "stdout",
     "output_type": "stream",
     "text": [
      "MoviePy - Done.\n"
     ]
    },
    {
     "name": "stderr",
     "output_type": "stream",
     "text": [
      "\r"
     ]
    }
   ],
   "source": [
    "audio.write_audiofile(f'{vidio_file.stem}.mp3')"
   ]
  },
  {
   "cell_type": "code",
   "execution_count": null,
   "id": "771eb532",
   "metadata": {},
   "outputs": [],
   "source": []
  }
 ],
 "metadata": {
  "kernelspec": {
   "display_name": "Python 3 (ipykernel)",
   "language": "python",
   "name": "python3"
  },
  "language_info": {
   "codemirror_mode": {
    "name": "ipython",
    "version": 3
   },
   "file_extension": ".py",
   "mimetype": "text/x-python",
   "name": "python",
   "nbconvert_exporter": "python",
   "pygments_lexer": "ipython3",
   "version": "3.9.13"
  }
 },
 "nbformat": 4,
 "nbformat_minor": 5
}
