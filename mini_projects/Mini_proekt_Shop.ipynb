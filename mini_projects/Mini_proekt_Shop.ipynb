{
 "cells": [
  {
   "cell_type": "markdown",
   "id": "064a40f6",
   "metadata": {},
   "source": [
    "# Здравствуйте\n",
    "\n",
    "**Продолжаю улучшать свои навыки и знания.\n",
    "Предлагаю ознакомиться с мини проектом \"Shop\", в котором привожу решение типовых задач.**"
   ]
  },
  {
   "cell_type": "markdown",
   "id": "706d8374",
   "metadata": {},
   "source": [
    "## Задачи\n",
    "\n",
    "    1)Загрузить два датасета user_data и logs. \n",
    "    2)Проверить размер таблицы, типы переменных, наличие пропущенных значений, описательную статистику. \n",
    "    3)Узнать сколько уникальных значений принимает переменная platform.\n",
    "    4)Какой клиент совершил больше всего успешных операций? \n",
    "    5)Если несколько пользователей совершили одинаковое число успешных действий, \n",
    "     перечислить их идентификаторы (client) через запятую и пробел в порядке возрастания.\n",
    "    6)С какой платформы осуществляется наибольшее количество успешных операций?\n",
    "    7)Какую платформу предпочитают премиальные клиенты?\n",
    "    8)Визуализировать распределение возраста клиентов в зависимости от типа клиента (премиум или нет).\n",
    "    9)Построить график распределения числа успешных операций.\n",
    "    10)Визуализировать число успешных операций, сделанных на платформе computer, в зависимости от возраста, используя sns.countplot (x – возраст, y – число успешных операций). Клиенты какого возраста совершили наибольшее количество успешных действий?"
   ]
  },
  {
   "cell_type": "code",
   "execution_count": 15,
   "id": "9a8f02c7",
   "metadata": {},
   "outputs": [],
   "source": [
    "import pandas as pd"
   ]
  },
  {
   "cell_type": "code",
   "execution_count": 16,
   "id": "fbcb2ff7",
   "metadata": {},
   "outputs": [],
   "source": [
    "user_data = pd.read_csv('https://stepik.org/media/attachments/lesson/360348/user_data.csv', encoding='utf-8')\n",
    "logs = pd.read_csv('https://stepik.org/media/attachments/lesson/360348/logs.csv', encoding='utf-8')"
   ]
  },
  {
   "cell_type": "code",
   "execution_count": 17,
   "id": "98b99914",
   "metadata": {},
   "outputs": [
    {
     "data": {
      "text/html": [
       "<div>\n",
       "<style scoped>\n",
       "    .dataframe tbody tr th:only-of-type {\n",
       "        vertical-align: middle;\n",
       "    }\n",
       "\n",
       "    .dataframe tbody tr th {\n",
       "        vertical-align: top;\n",
       "    }\n",
       "\n",
       "    .dataframe thead th {\n",
       "        text-align: right;\n",
       "    }\n",
       "</style>\n",
       "<table border=\"1\" class=\"dataframe\">\n",
       "  <thead>\n",
       "    <tr style=\"text-align: right;\">\n",
       "      <th></th>\n",
       "      <th>client</th>\n",
       "      <th>success</th>\n",
       "      <th>platform</th>\n",
       "      <th>time</th>\n",
       "    </tr>\n",
       "  </thead>\n",
       "  <tbody>\n",
       "    <tr>\n",
       "      <th>0</th>\n",
       "      <td>40177</td>\n",
       "      <td>True</td>\n",
       "      <td>phone</td>\n",
       "      <td>1585412212</td>\n",
       "    </tr>\n",
       "    <tr>\n",
       "      <th>1</th>\n",
       "      <td>61468</td>\n",
       "      <td>True</td>\n",
       "      <td>phone</td>\n",
       "      <td>1585425658</td>\n",
       "    </tr>\n",
       "    <tr>\n",
       "      <th>2</th>\n",
       "      <td>35604</td>\n",
       "      <td>False</td>\n",
       "      <td>phone</td>\n",
       "      <td>1585459894</td>\n",
       "    </tr>\n",
       "    <tr>\n",
       "      <th>3</th>\n",
       "      <td>9961</td>\n",
       "      <td>True</td>\n",
       "      <td>phone</td>\n",
       "      <td>1585400189</td>\n",
       "    </tr>\n",
       "    <tr>\n",
       "      <th>4</th>\n",
       "      <td>10931</td>\n",
       "      <td>True</td>\n",
       "      <td>computer</td>\n",
       "      <td>1585468629</td>\n",
       "    </tr>\n",
       "  </tbody>\n",
       "</table>\n",
       "</div>"
      ],
      "text/plain": [
       "   client  success  platform        time\n",
       "0   40177     True     phone  1585412212\n",
       "1   61468     True     phone  1585425658\n",
       "2   35604    False     phone  1585459894\n",
       "3    9961     True     phone  1585400189\n",
       "4   10931     True  computer  1585468629"
      ]
     },
     "execution_count": 17,
     "metadata": {},
     "output_type": "execute_result"
    }
   ],
   "source": [
    "logs.head()\n",
    "# вывожу заголовки таблицы и 5 первых строк"
   ]
  },
  {
   "cell_type": "code",
   "execution_count": 18,
   "id": "36da3376",
   "metadata": {},
   "outputs": [
    {
     "data": {
      "text/plain": [
       "<bound method DataFrame.info of       client  premium  age\n",
       "0      46346    False   58\n",
       "1       4391    False   55\n",
       "2      27372    False   64\n",
       "3      11989    False   44\n",
       "4      60664    False   49\n",
       "...      ...      ...  ...\n",
       "2949   19411    False   29\n",
       "2950   61579    False   50\n",
       "2951   61221     True   64\n",
       "2952   29863    False   46\n",
       "2953   78499    False   36\n",
       "\n",
       "[2954 rows x 3 columns]>"
      ]
     },
     "execution_count": 18,
     "metadata": {},
     "output_type": "execute_result"
    }
   ],
   "source": [
    "user_data.info"
   ]
  },
  {
   "cell_type": "markdown",
   "id": "1137be31",
   "metadata": {},
   "source": [
    "Чтобы узнать размер таблицы (датафрэйма), нужно обратиться к атрибуту.\n",
    "**shape**\n",
    "возвращает кортеж (упрощённый список, обращаюсь к нему, как к списку), где сначала идёт число строк, а потом число колонок\n",
    "**выясню типы колонок**\n",
    "Для этого применяю атрибут\n",
    "**dtypes**\n",
    "быстро взглянуть на информацию о распределении данных\n",
    "можно использовать метод \n",
    "**describe**\n"
   ]
  },
  {
   "cell_type": "code",
   "execution_count": 19,
   "id": "b23dd660",
   "metadata": {},
   "outputs": [
    {
     "data": {
      "text/plain": [
       "count      4500\n",
       "unique        3\n",
       "top       phone\n",
       "freq       2753\n",
       "Name: platform, dtype: object"
      ]
     },
     "execution_count": 19,
     "metadata": {},
     "output_type": "execute_result"
    }
   ],
   "source": [
    "logs.platform.describe()\n",
    "# видим, переменная принемает 3 уникальных значения, тип данных object, количество строк 4500,\n",
    "# самое популярнрное значение phone "
   ]
  },
  {
   "cell_type": "markdown",
   "id": "33283664",
   "metadata": {},
   "source": [
    "Узнаю, какой клиент совершил больше всего успешных операций.\n",
    "\n",
    "Возможно, несколько пользователей совершили одинаковое число успешных действий, перечислю их идентификаторы (client) через запятую и пробел в порядке возрастания. "
   ]
  },
  {
   "cell_type": "markdown",
   "id": "2bb9afd7",
   "metadata": {},
   "source": [
    "'**query**' -\n",
    "Этим методом отберу успешные значения, далее проведу группировку по клиентам, и посчитаю для каждого клиента число успешных операций с помощью \n",
    "'**groupby**';\n",
    "'**agg**';\n",
    "'**count**';\n",
    "'**sort_values**'.\n",
    "Выведу список клиентов по убыванию (cверху топовые - совершившие максимальное количество покупок) \n",
    "Сохраняю результат в отдельную переменную **success_number**.\n",
    "Далее узнаю максимальное число успешных действий(покупок), результат сохраню в переменную **max_success**, отображает id клиента и количество совершенных им покупокупок.\n"
   ]
  },
  {
   "cell_type": "code",
   "execution_count": 20,
   "id": "30b21780",
   "metadata": {},
   "outputs": [
    {
     "data": {
      "text/html": [
       "<div>\n",
       "<style scoped>\n",
       "    .dataframe tbody tr th:only-of-type {\n",
       "        vertical-align: middle;\n",
       "    }\n",
       "\n",
       "    .dataframe tbody tr th {\n",
       "        vertical-align: top;\n",
       "    }\n",
       "\n",
       "    .dataframe thead th {\n",
       "        text-align: right;\n",
       "    }\n",
       "</style>\n",
       "<table border=\"1\" class=\"dataframe\">\n",
       "  <thead>\n",
       "    <tr style=\"text-align: right;\">\n",
       "      <th></th>\n",
       "      <th>client</th>\n",
       "      <th>success_number</th>\n",
       "    </tr>\n",
       "  </thead>\n",
       "  <tbody>\n",
       "    <tr>\n",
       "      <th>332</th>\n",
       "      <td>12179</td>\n",
       "      <td>41</td>\n",
       "    </tr>\n",
       "    <tr>\n",
       "      <th>1758</th>\n",
       "      <td>61468</td>\n",
       "      <td>41</td>\n",
       "    </tr>\n",
       "    <tr>\n",
       "      <th>1487</th>\n",
       "      <td>52870</td>\n",
       "      <td>41</td>\n",
       "    </tr>\n",
       "    <tr>\n",
       "      <th>1759</th>\n",
       "      <td>61473</td>\n",
       "      <td>41</td>\n",
       "    </tr>\n",
       "    <tr>\n",
       "      <th>2626</th>\n",
       "      <td>92584</td>\n",
       "      <td>41</td>\n",
       "    </tr>\n",
       "    <tr>\n",
       "      <th>...</th>\n",
       "      <td>...</td>\n",
       "      <td>...</td>\n",
       "    </tr>\n",
       "    <tr>\n",
       "      <th>956</th>\n",
       "      <td>34121</td>\n",
       "      <td>1</td>\n",
       "    </tr>\n",
       "    <tr>\n",
       "      <th>957</th>\n",
       "      <td>34191</td>\n",
       "      <td>1</td>\n",
       "    </tr>\n",
       "    <tr>\n",
       "      <th>958</th>\n",
       "      <td>34198</td>\n",
       "      <td>1</td>\n",
       "    </tr>\n",
       "    <tr>\n",
       "      <th>959</th>\n",
       "      <td>34277</td>\n",
       "      <td>1</td>\n",
       "    </tr>\n",
       "    <tr>\n",
       "      <th>2844</th>\n",
       "      <td>99993</td>\n",
       "      <td>1</td>\n",
       "    </tr>\n",
       "  </tbody>\n",
       "</table>\n",
       "<p>2845 rows × 2 columns</p>\n",
       "</div>"
      ],
      "text/plain": [
       "      client  success_number\n",
       "332    12179              41\n",
       "1758   61468              41\n",
       "1487   52870              41\n",
       "1759   61473              41\n",
       "2626   92584              41\n",
       "...      ...             ...\n",
       "956    34121               1\n",
       "957    34191               1\n",
       "958    34198               1\n",
       "959    34277               1\n",
       "2844   99993               1\n",
       "\n",
       "[2845 rows x 2 columns]"
      ]
     },
     "execution_count": 20,
     "metadata": {},
     "output_type": "execute_result"
    }
   ],
   "source": [
    "success_number = logs.query('success == True') \\\n",
    "                    .groupby('client', as_index=False) \\\n",
    "                    .agg({'platform' : 'count'}) \\\n",
    "                    .rename(columns={'platform' : 'success_number'}) \\\n",
    "                    .sort_values('success_number', ascending=False)\n",
    "\n",
    "# ascending - вывод при сортировке 1->9 или False = 9->1\n",
    "\n",
    "success_number"
   ]
  },
  {
   "cell_type": "code",
   "execution_count": 21,
   "id": "85d75a22",
   "metadata": {},
   "outputs": [
    {
     "data": {
      "text/plain": [
       "client            99993\n",
       "success_number       41\n",
       "dtype: int64"
      ]
     },
     "execution_count": 21,
     "metadata": {},
     "output_type": "execute_result"
    }
   ],
   "source": [
    "maximum_success = success_number.max()\n",
    "maximum_success"
   ]
  },
  {
   "cell_type": "markdown",
   "id": "b4d75114",
   "metadata": {},
   "source": [
    "Далее узнаю всех клиентов с числом максимальных действий равных максимуму и извлеку id клиентов в список (successful_clients), отсортировав в порядке возрастания "
   ]
  },
  {
   "cell_type": "code",
   "execution_count": 22,
   "id": "29357e03",
   "metadata": {},
   "outputs": [],
   "source": [
    "successful_clients = success_number.query('success_number == @maximum_success.success_number') \\\n",
    "                                    .sort_values('client') \\\n",
    "                                    .client \\\n",
    "                                    .tolist()\n",
    "\n",
    "# tolist() используется для преобразования серии в список"
   ]
  },
  {
   "cell_type": "code",
   "execution_count": 23,
   "id": "a62047d6",
   "metadata": {},
   "outputs": [
    {
     "data": {
      "text/plain": [
       "[12179, 28719, 36165, 52870, 61468, 61473, 78349, 82563, 92584]"
      ]
     },
     "execution_count": 23,
     "metadata": {},
     "output_type": "execute_result"
    }
   ],
   "source": [
    "successful_clients\n",
    "# пользователи совершили одинаковое число успешных действий, \n",
    "     # вывел их идентификаторы (client) через запятую и пробел в порядке возрастания"
   ]
  },
  {
   "cell_type": "markdown",
   "id": "892e447d",
   "metadata": {},
   "source": [
    "Далее применяю метод **join**  для создания списка из строк.\n",
    "Т.е сейчас есть числа из которох создаю список, переведя числа в строки.\n"
   ]
  },
  {
   "cell_type": "code",
   "execution_count": 24,
   "id": "faa7375e",
   "metadata": {},
   "outputs": [
    {
     "data": {
      "text/plain": [
       "'12179, 28719, 36165, 52870, 61468, 61473, 78349, 82563, 92584'"
      ]
     },
     "execution_count": 24,
     "metadata": {},
     "output_type": "execute_result"
    }
   ],
   "source": [
    "', '. join([str(client) for client in successful_clients])"
   ]
  },
  {
   "cell_type": "markdown",
   "id": "c382f1d7",
   "metadata": {},
   "source": [
    "**Теперь использую более простой метод**\n"
   ]
  },
  {
   "cell_type": "code",
   "execution_count": 28,
   "id": "9d167027",
   "metadata": {},
   "outputs": [],
   "source": [
    "success_number2 = logs \\\n",
    "                       .groupby('client', as_index=False) \\\n",
    "                       .agg({'success' : 'sum'}) \\\n",
    "                       .rename(columns={'success' : 'success_number'}) \\\n",
    "                       .sort_values('success_number', ascending=False)"
   ]
  },
  {
   "cell_type": "code",
   "execution_count": 29,
   "id": "0d028ecb",
   "metadata": {},
   "outputs": [
    {
     "ename": "NameError",
     "evalue": "name 'maximum_success2' is not defined",
     "output_type": "error",
     "traceback": [
      "\u001b[1;31m---------------------------------------------------------------------------\u001b[0m",
      "\u001b[1;31mNameError\u001b[0m                                 Traceback (most recent call last)",
      "\u001b[1;32mC:\\Users\\PROFES~1\\AppData\\Local\\Temp/ipykernel_5384/3610346270.py\u001b[0m in \u001b[0;36m<module>\u001b[1;34m\u001b[0m\n\u001b[1;32m----> 1\u001b[1;33m \u001b[0mmaximum_success2\u001b[0m \u001b[1;33m==\u001b[0m \u001b[0msuccess_number2\u001b[0m\u001b[1;33m.\u001b[0m\u001b[0mmax\u001b[0m\u001b[1;33m(\u001b[0m\u001b[1;33m)\u001b[0m\u001b[1;33m\u001b[0m\u001b[1;33m\u001b[0m\u001b[0m\n\u001b[0m",
      "\u001b[1;31mNameError\u001b[0m: name 'maximum_success2' is not defined"
     ]
    }
   ],
   "source": [
    "maximum_success2 == success_number2.max()       "
   ]
  },
  {
   "cell_type": "code",
   "execution_count": 30,
   "id": "840e8959",
   "metadata": {},
   "outputs": [],
   "source": [
    "successful_clients2 = success_number2.query('success_number == @maximum_success.success_number') \\\n",
    "                                    .sort_values('client') \\\n",
    "                                    .client \\\n",
    "                                    .tolist()"
   ]
  },
  {
   "cell_type": "code",
   "execution_count": 31,
   "id": "94c4533f",
   "metadata": {},
   "outputs": [
    {
     "data": {
      "text/plain": [
       "[12179, 28719, 36165, 52870, 61468, 61473, 78349, 82563, 92584]"
      ]
     },
     "execution_count": 31,
     "metadata": {},
     "output_type": "execute_result"
    }
   ],
   "source": [
    "successful_clients2\n",
    "# пользователи совершили одинаковое число успешных действий, \n",
    "     # вывел их идентификаторы (client) через запятую и пробел в порядке возрастания"
   ]
  },
  {
   "cell_type": "markdown",
   "id": "a0294ce2",
   "metadata": {},
   "source": [
    "Проверю расчеты, для того что бы убедиться в верности втрого метода решения."
   ]
  },
  {
   "cell_type": "code",
   "execution_count": 32,
   "id": "c39068c1",
   "metadata": {},
   "outputs": [
    {
     "data": {
      "text/plain": [
       "True"
      ]
     },
     "execution_count": 32,
     "metadata": {},
     "output_type": "execute_result"
    }
   ],
   "source": [
    "successful_clients2 == successful_clients\n",
    "# при сравнении методов получаю ответ \"True\" , следовательно результаты вычеслений равны."
   ]
  },
  {
   "cell_type": "code",
   "execution_count": 33,
   "id": "7288dda4",
   "metadata": {},
   "outputs": [],
   "source": [
    "# Сохраню полученные даныые id пользователей в новый фаил "
   ]
  },
  {
   "cell_type": "code",
   "execution_count": 34,
   "id": "d3df112d",
   "metadata": {},
   "outputs": [],
   "source": [
    "successful_clients_id = pd.DataFrame({'successful_clients_id': [12179, 28719, 36165, 52870, 61468, 61473, 78349, 82563, 92584]})"
   ]
  },
  {
   "cell_type": "code",
   "execution_count": 38,
   "id": "c214842d",
   "metadata": {},
   "outputs": [],
   "source": [
    "#with pd.ExcelWriter('successful_clients_id.xlsx') as writer:successful_clients_id.to_excel(writer)    "
   ]
  },
  {
   "cell_type": "code",
   "execution_count": 39,
   "id": "df8f0a75",
   "metadata": {},
   "outputs": [],
   "source": [
    "writer.save()\n",
    "# список сохранен в нашей рабочей папке в файле Excel имя successful_clients_id"
   ]
  },
  {
   "cell_type": "markdown",
   "id": "a8295007",
   "metadata": {},
   "source": [
    "**Узнаю с какой платформы осуществляется наибольшее количество успешных операций**"
   ]
  },
  {
   "cell_type": "code",
   "execution_count": 40,
   "id": "8b3f2a80",
   "metadata": {},
   "outputs": [],
   "source": [
    "successful_platform = logs.query('success == True').platform.value_counts().idxmax()"
   ]
  },
  {
   "cell_type": "code",
   "execution_count": 41,
   "id": "0763a394",
   "metadata": {},
   "outputs": [
    {
     "name": "stdout",
     "output_type": "stream",
     "text": [
      "phone\n"
     ]
    }
   ],
   "source": [
    "print(successful_platform)"
   ]
  },
  {
   "cell_type": "markdown",
   "id": "64b3ceb0",
   "metadata": {},
   "source": [
    "**Узнаю kакая платформа наиболее популярна среди премиальных клиентов**"
   ]
  },
  {
   "cell_type": "markdown",
   "id": "11ea83b8",
   "metadata": {},
   "source": [
    "Объединяю датафрэймы с клиентами и логами, затем выберу премиумных клиентов.\n",
    "Джоины делаю с помощью метода **merge**."
   ]
  },
  {
   "cell_type": "code",
   "execution_count": 42,
   "id": "46ad0055",
   "metadata": {},
   "outputs": [],
   "source": [
    "data = user_data.merge(logs)"
   ]
  },
  {
   "cell_type": "code",
   "execution_count": 43,
   "id": "6abf42b7",
   "metadata": {},
   "outputs": [
    {
     "data": {
      "text/plain": [
       "phone       246\n",
       "computer    150\n",
       "tablet       24\n",
       "Name: platform, dtype: int64"
      ]
     },
     "execution_count": 43,
     "metadata": {},
     "output_type": "execute_result"
    }
   ],
   "source": [
    "data.query('premium == True').platform.value_counts()"
   ]
  },
  {
   "cell_type": "markdown",
   "id": "9eacded4",
   "metadata": {},
   "source": [
    "phone       177\n",
    "computer    108\n",
    "tablet       18\n",
    "\n",
    "Из результа видим самую папулярную платформу 'phone'"
   ]
  },
  {
   "cell_type": "markdown",
   "id": "9aba8c03",
   "metadata": {},
   "source": [
    "**Визуализирую распределение возраста клиентов в зависимости от типа клиента (премиум или нет)**.\n",
    "\n",
    "\n",
    "\n",
    "\n",
    "Импортирую библиотеку для построения графиков и визуализации."
   ]
  },
  {
   "cell_type": "code",
   "execution_count": 44,
   "id": "934d567b",
   "metadata": {},
   "outputs": [],
   "source": [
    "import seaborn as sns,  numpy as np\n",
    "import numpy as np\n",
    "import matplotlib.pyplot as plt"
   ]
  },
  {
   "cell_type": "code",
   "execution_count": 45,
   "id": "4fe81d57",
   "metadata": {},
   "outputs": [],
   "source": [
    "not_premium_agg = data.query('premium == False').age\n",
    "\n",
    "premium_agg = data.query('premium == True').age"
   ]
  },
  {
   "cell_type": "code",
   "execution_count": 46,
   "id": "5027ae47",
   "metadata": {},
   "outputs": [
    {
     "data": {
      "text/plain": [
       "<AxesSubplot:xlabel='age (years)', ylabel='premium_level'>"
      ]
     },
     "execution_count": 46,
     "metadata": {},
     "output_type": "execute_result"
    },
    {
     "data": {
      "image/png": "[encoded data removed]",
      "text/plain": [
       "<Figure size 432x288 with 2 Axes>"
      ]
     },
     "metadata": {
      "needs_background": "light"
     },
     "output_type": "display_data"
    }
   ],
   "source": [
    "Figure, ax = plt.subplots(nrows=1, ncols=2)\n",
    "plt.xlabel('age (years)')\n",
    "plt.ylabel('premium_level')\n",
    "\n",
    "sns.histplot(data=not_premium_agg, ax=ax[0], kde=True, color='green') \n",
    "sns.histplot(data=premium_agg, ax=ax[1], kde=True, color='#A55555')\n"
   ]
  },
  {
   "cell_type": "markdown",
   "id": "baca9a6a",
   "metadata": {},
   "source": [
    "На графике отображена гистограма не примеальных клиетов с осями: y= уровень примеальности и x= возрас"
   ]
  },
  {
   "cell_type": "code",
   "execution_count": 47,
   "id": "c0878107",
   "metadata": {},
   "outputs": [
    {
     "data": {
      "text/plain": [
       "<seaborn.axisgrid.FacetGrid at 0x18fb3a9e1f0>"
      ]
     },
     "execution_count": 47,
     "metadata": {},
     "output_type": "execute_result"
    },
    {
     "data": {
      "image/png": "[encoded data removed]",
      "text/plain": [
       "<Figure size 360x360 with 1 Axes>"
      ]
     },
     "metadata": {
      "needs_background": "light"
     },
     "output_type": "display_data"
    }
   ],
   "source": [
    "sns.displot(not_premium_agg)"
   ]
  },
  {
   "cell_type": "markdown",
   "id": "174ade76",
   "metadata": {},
   "source": [
    "На графике отображена гистограма примеальных клиетов с осями: y = уровень примеальности и x = возрас"
   ]
  },
  {
   "cell_type": "code",
   "execution_count": 48,
   "id": "c842204d",
   "metadata": {},
   "outputs": [
    {
     "data": {
      "text/plain": [
       "<seaborn.axisgrid.FacetGrid at 0x18fb3a9e3a0>"
      ]
     },
     "execution_count": 48,
     "metadata": {},
     "output_type": "execute_result"
    },
    {
     "data": {
      "image/png": "[encoded data removed]",
      "text/plain": [
       "<Figure size 360x360 with 1 Axes>"
      ]
     },
     "metadata": {
      "needs_background": "light"
     },
     "output_type": "display_data"
    }
   ],
   "source": [
    "sns.displot(premium_agg)"
   ]
  },
  {
   "cell_type": "markdown",
   "id": "19fc4e2b",
   "metadata": {},
   "source": [
    "Теперь построю график распределения числа успешных операций: \n",
    "\n",
    "    x – число успешных операций\n",
    "    y – число клиентов, совершивших столько успешных операций"
   ]
  },
  {
   "cell_type": "code",
   "execution_count": 49,
   "id": "1f4e33a5",
   "metadata": {},
   "outputs": [],
   "source": [
    "client_vr_success_number = data.groupby('client') \\\n",
    "                                .agg({'success' : 'sum'})"
   ]
  },
  {
   "cell_type": "code",
   "execution_count": 50,
   "id": "1d8bb1c9",
   "metadata": {},
   "outputs": [
    {
     "data": {
      "text/plain": [
       "<AxesSubplot:ylabel='Count'>"
      ]
     },
     "execution_count": 50,
     "metadata": {},
     "output_type": "execute_result"
    },
    {
     "data": {
      "image/png": "[encoded data removed]",
      "text/plain": [
       "<Figure size 432x288 with 1 Axes>"
      ]
     },
     "metadata": {
      "needs_background": "light"
     },
     "output_type": "display_data"
    }
   ],
   "source": [
    "sns.histplot(client_vr_success_number)"
   ]
  },
  {
   "cell_type": "code",
   "execution_count": 51,
   "id": "09ebc8e4",
   "metadata": {},
   "outputs": [
    {
     "data": {
      "text/plain": [
       "success\n",
       "1          2051\n",
       "0           850\n",
       "2            42\n",
       "41            9\n",
       "3             1\n",
       "40            1\n",
       "dtype: int64"
      ]
     },
     "execution_count": 51,
     "metadata": {},
     "output_type": "execute_result"
    }
   ],
   "source": [
    "client_vr_success_number.value_counts()"
   ]
  },
  {
   "cell_type": "raw",
   "id": "781c4e84",
   "metadata": {},
   "source": [
    "На графике \"client_vr_success_number\" видим как часто встречаюся выражения.\n",
    "\n",
    "25051 клиентов совершили по 1 успешной операции\n",
    "850 клиентов совершили по 0 успешных операций\n",
    "42 клиента совершили по 2 успешные операции\n",
    "9 клиентов совершили по 41 успешной операции\n",
    "1 клиент совершил 3 успешные операции\n",
    "1 клиент совершил 40 супешных операций \n"
   ]
  },
  {
   "cell_type": "markdown",
   "id": "ce4ec61a",
   "metadata": {},
   "source": [
    "Визуализирую число успешных операций, сделанных на платформе computer, в зависимости от возраста.\n",
    "По оси x – возраст, y – число успешных операций. \n",
    "Расчитаю, клиенты какого возраста совершили наибольшее количество успешных действий?\n"
   ]
  },
  {
   "cell_type": "code",
   "execution_count": 52,
   "id": "bcfede8b",
   "metadata": {},
   "outputs": [],
   "source": [
    "age_vs_success_number = data.query('platform == \"computer\"') \\\n",
    "                            .groupby('age', as_index=False ) \\\n",
    "                            .agg({'success' : 'sum' })"
   ]
  },
  {
   "cell_type": "code",
   "execution_count": 53,
   "id": "20275b72",
   "metadata": {},
   "outputs": [
    {
     "data": {
      "text/plain": [
       "<AxesSubplot:xlabel='age', ylabel='success'>"
      ]
     },
     "execution_count": 53,
     "metadata": {},
     "output_type": "execute_result"
    },
    {
     "data": {
      "image/png": "[encoded data removed]",
      "text/plain": [
       "<Figure size 960x720 with 1 Axes>"
      ]
     },
     "metadata": {
      "needs_background": "light"
     },
     "output_type": "display_data"
    }
   ],
   "source": [
    "plt.figure(figsize=(12 , 9), dpi=80)\n",
    "sns.barplot(x='age', y='success', data=age_vs_success_number)"
   ]
  },
  {
   "cell_type": "code",
   "execution_count": 54,
   "id": "68e09789",
   "metadata": {},
   "outputs": [
    {
     "data": {
      "text/plain": [
       "<Figure size 432x288 with 0 Axes>"
      ]
     },
     "metadata": {},
     "output_type": "display_data"
    }
   ],
   "source": [
    "plt.savefig('age_vs_success_number.jpg', dpi=80)"
   ]
  },
  {
   "cell_type": "markdown",
   "id": "b46e5215",
   "metadata": {},
   "source": [
    "***Рассмотрю еще один способ решения***"
   ]
  },
  {
   "cell_type": "code",
   "execution_count": 55,
   "id": "152729e0",
   "metadata": {},
   "outputs": [],
   "source": [
    "computer_success = data.query('platform == \"computer\" and success == True')"
   ]
  },
  {
   "cell_type": "code",
   "execution_count": 56,
   "id": "ea463be9",
   "metadata": {},
   "outputs": [
    {
     "name": "stderr",
     "output_type": "stream",
     "text": [
      "C:\\Users\\Professional\\anaconda3\\lib\\site-packages\\seaborn\\_decorators.py:36: FutureWarning: Pass the following variable as a keyword arg: x. From version 0.12, the only valid positional argument will be `data`, and passing other arguments without an explicit keyword will result in an error or misinterpretation.\n",
      "  warnings.warn(\n"
     ]
    },
    {
     "data": {
      "text/plain": [
       "<AxesSubplot:xlabel='age', ylabel='count'>"
      ]
     },
     "execution_count": 56,
     "metadata": {},
     "output_type": "execute_result"
    },
    {
     "data": {
      "image/png": "[encoded data removed]",
      "text/plain": [
       "<Figure size 960x720 with 1 Axes>"
      ]
     },
     "metadata": {
      "needs_background": "light"
     },
     "output_type": "display_data"
    }
   ],
   "source": [
    "plt.figure(figsize=(12 , 9), dpi=80)\n",
    "sns.countplot(computer_success.age)"
   ]
  },
  {
   "cell_type": "markdown",
   "id": "6a5e9c9f",
   "metadata": {},
   "source": [
    "***Сохраню полученный график в фаил *** "
   ]
  },
  {
   "cell_type": "code",
   "execution_count": 57,
   "id": "f72117eb",
   "metadata": {},
   "outputs": [
    {
     "data": {
      "text/plain": [
       "<Figure size 432x288 with 0 Axes>"
      ]
     },
     "metadata": {},
     "output_type": "display_data"
    }
   ],
   "source": [
    "plt.savefig('computer_success.jpg')"
   ]
  },
  {
   "cell_type": "markdown",
   "id": "df750a38",
   "metadata": {},
   "source": [
    "# Аналитическая записка\n",
    "\n",
    "### Итоги аналитического исследования пользователей \n",
    "\n",
    "* В результате подведения аналитического исследования данных 4\n",
    "\n",
    "\n",
    "\n",
    "                                                                                                            С уважением,\n",
    "                                                                                                            Осокин Максим\n",
    "                                                                                                            Владимирович"
   ]
  },
  {
   "cell_type": "markdown",
   "id": "8b18d83d",
   "metadata": {},
   "source": [
    "    1)Загрузить два датасета user_data и logs. \n",
    "    2)Проверить размер таблицы, типы переменных, наличие пропущенных значений, описательную статистику. \n",
    "    3)Узнать сколько уникальных значений принимает переменная platform.\n",
    "    4)Какой клиент совершил больше всего успешных операций? \n",
    "    5)Если несколько пользователей совершили одинаковое число успешных действий, \n",
    "     перечислить их идентификаторы (client) через запятую и пробел в порядке возрастания.\n",
    "    6)С какой платформы осуществляется наибольшее количество успешных операций?\n",
    "    7)Какую платформу предпочитают премиальные клиенты?\n",
    "    8)Визуализировать распределение возраста клиентов в зависимости от типа клиента (премиум или нет).\n",
    "    9)Построить график распределения числа успешных операций.\n",
    "    10)Визуализировать число успешных операций, сделанных на платформе computer, в зависимости от возраста, используя sns.countplot (x – возраст, y – число успешных операций). Клиенты какого возраста совершили наибольшее количество успешных действий?"
   ]
  }
 ],
 "metadata": {
  "kernelspec": {
   "display_name": "Python 3 (ipykernel)",
   "language": "python",
   "name": "python3"
  },
  "language_info": {
   "codemirror_mode": {
    "name": "ipython",
    "version": 3
   },
   "file_extension": ".py",
   "mimetype": "text/x-python",
   "name": "python",
   "nbconvert_exporter": "python",
   "pygments_lexer": "ipython3",
   "version": "3.9.7"
  }
 },
 "nbformat": 4,
 "nbformat_minor": 5
}
