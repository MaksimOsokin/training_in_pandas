{
 "cells": [
  {
   "cell_type": "markdown",
   "id": "064a40f6",
   "metadata": {},
   "source": [
    "# Здравствуйте\n",
    "\n",
    "**Продолжаю улучшать свои навыки и знания.\n",
    "Предлагаю ознакомиться с мини проектом \"Shop\", в котором привожу решение типовых задач.**"
   ]
  },
  {
   "cell_type": "markdown",
   "id": "706d8374",
   "metadata": {},
   "source": [
    "## Задачи\n",
    "\n",
    "    1)Загрузить два датасета user_data и logs. \n",
    "    2)Проверить размер таблицы, типы переменных, наличие пропущенных значений. \n",
    "    3)Узнать сколько уникальных значений принимает переменная platform.\n",
    "    4)Какой клиент совершил больше всего успешных операций? \n",
    "    5)Если несколько пользователей совершили одинаковое число успешных действий, \n",
    "     перечислить их идентификаторы (client) через запятую и пробел в порядке возрастания.\n",
    "    6)С какой платформы осуществляется наибольшее количество успешных операций?\n",
    "    7)Какую платформу предпочитают премиальные клиенты?\n",
    "    8)Визуализировать распределение возраста клиентов в зависимости от типа клиента (премиум или нет).\n",
    "    9)Построить график распределения числа успешных операций.\n",
    "    10)Подготовить описательную статистику числа успешных операций, сделанных на платформе computer, в зависимости от возраста, используя sns.countplot (x – возраст, y – число успешных операций). Клиенты какого возраста совершили наибольшее количество успешных действий?"
   ]
  },
  {
   "cell_type": "code",
   "execution_count": 30,
   "id": "9a8f02c7",
   "metadata": {},
   "outputs": [],
   "source": [
    "import pandas as pd"
   ]
  },
  {
   "cell_type": "code",
   "execution_count": 31,
   "id": "fbcb2ff7",
   "metadata": {},
   "outputs": [],
   "source": [
    "user_data = pd.read_csv('https://stepik.org/media/attachments/lesson/360348/user_data.csv', encoding='utf-8')\n",
    "logs = pd.read_csv('https://stepik.org/media/attachments/lesson/360348/logs.csv', encoding='utf-8')"
   ]
  },
  {
   "cell_type": "code",
   "execution_count": 93,
   "id": "98b99914",
   "metadata": {},
   "outputs": [
    {
     "data": {
      "text/html": [
       "<div>\n",
       "<style scoped>\n",
       "    .dataframe tbody tr th:only-of-type {\n",
       "        vertical-align: middle;\n",
       "    }\n",
       "\n",
       "    .dataframe tbody tr th {\n",
       "        vertical-align: top;\n",
       "    }\n",
       "\n",
       "    .dataframe thead th {\n",
       "        text-align: right;\n",
       "    }\n",
       "</style>\n",
       "<table border=\"1\" class=\"dataframe\">\n",
       "  <thead>\n",
       "    <tr style=\"text-align: right;\">\n",
       "      <th></th>\n",
       "      <th>client</th>\n",
       "      <th>success</th>\n",
       "      <th>platform</th>\n",
       "      <th>time</th>\n",
       "    </tr>\n",
       "  </thead>\n",
       "  <tbody>\n",
       "    <tr>\n",
       "      <th>0</th>\n",
       "      <td>40177</td>\n",
       "      <td>True</td>\n",
       "      <td>phone</td>\n",
       "      <td>1585412212</td>\n",
       "    </tr>\n",
       "    <tr>\n",
       "      <th>1</th>\n",
       "      <td>61468</td>\n",
       "      <td>True</td>\n",
       "      <td>phone</td>\n",
       "      <td>1585425658</td>\n",
       "    </tr>\n",
       "    <tr>\n",
       "      <th>2</th>\n",
       "      <td>35604</td>\n",
       "      <td>False</td>\n",
       "      <td>phone</td>\n",
       "      <td>1585459894</td>\n",
       "    </tr>\n",
       "    <tr>\n",
       "      <th>3</th>\n",
       "      <td>9961</td>\n",
       "      <td>True</td>\n",
       "      <td>phone</td>\n",
       "      <td>1585400189</td>\n",
       "    </tr>\n",
       "    <tr>\n",
       "      <th>4</th>\n",
       "      <td>10931</td>\n",
       "      <td>True</td>\n",
       "      <td>computer</td>\n",
       "      <td>1585468629</td>\n",
       "    </tr>\n",
       "    <tr>\n",
       "      <th>5</th>\n",
       "      <td>41928</td>\n",
       "      <td>True</td>\n",
       "      <td>phone</td>\n",
       "      <td>1585446772</td>\n",
       "    </tr>\n",
       "    <tr>\n",
       "      <th>6</th>\n",
       "      <td>48925</td>\n",
       "      <td>True</td>\n",
       "      <td>phone</td>\n",
       "      <td>1585467880</td>\n",
       "    </tr>\n",
       "    <tr>\n",
       "      <th>7</th>\n",
       "      <td>32167</td>\n",
       "      <td>True</td>\n",
       "      <td>computer</td>\n",
       "      <td>1585457972</td>\n",
       "    </tr>\n",
       "    <tr>\n",
       "      <th>8</th>\n",
       "      <td>83888</td>\n",
       "      <td>True</td>\n",
       "      <td>phone</td>\n",
       "      <td>1585422273</td>\n",
       "    </tr>\n",
       "    <tr>\n",
       "      <th>9</th>\n",
       "      <td>71087</td>\n",
       "      <td>True</td>\n",
       "      <td>computer</td>\n",
       "      <td>1585458446</td>\n",
       "    </tr>\n",
       "    <tr>\n",
       "      <th>10</th>\n",
       "      <td>11983</td>\n",
       "      <td>True</td>\n",
       "      <td>phone</td>\n",
       "      <td>1585459511</td>\n",
       "    </tr>\n",
       "    <tr>\n",
       "      <th>11</th>\n",
       "      <td>502</td>\n",
       "      <td>True</td>\n",
       "      <td>computer</td>\n",
       "      <td>1585476186</td>\n",
       "    </tr>\n",
       "    <tr>\n",
       "      <th>12</th>\n",
       "      <td>3553</td>\n",
       "      <td>True</td>\n",
       "      <td>phone</td>\n",
       "      <td>1585477816</td>\n",
       "    </tr>\n",
       "    <tr>\n",
       "      <th>13</th>\n",
       "      <td>51575</td>\n",
       "      <td>True</td>\n",
       "      <td>computer</td>\n",
       "      <td>1585409788</td>\n",
       "    </tr>\n",
       "    <tr>\n",
       "      <th>14</th>\n",
       "      <td>98357</td>\n",
       "      <td>False</td>\n",
       "      <td>computer</td>\n",
       "      <td>1585465005</td>\n",
       "    </tr>\n",
       "    <tr>\n",
       "      <th>15</th>\n",
       "      <td>39975</td>\n",
       "      <td>True</td>\n",
       "      <td>computer</td>\n",
       "      <td>1585428343</td>\n",
       "    </tr>\n",
       "    <tr>\n",
       "      <th>16</th>\n",
       "      <td>17815</td>\n",
       "      <td>True</td>\n",
       "      <td>computer</td>\n",
       "      <td>1585448961</td>\n",
       "    </tr>\n",
       "    <tr>\n",
       "      <th>17</th>\n",
       "      <td>99308</td>\n",
       "      <td>True</td>\n",
       "      <td>computer</td>\n",
       "      <td>1585409409</td>\n",
       "    </tr>\n",
       "    <tr>\n",
       "      <th>18</th>\n",
       "      <td>36606</td>\n",
       "      <td>True</td>\n",
       "      <td>phone</td>\n",
       "      <td>1585457831</td>\n",
       "    </tr>\n",
       "    <tr>\n",
       "      <th>19</th>\n",
       "      <td>87937</td>\n",
       "      <td>True</td>\n",
       "      <td>computer</td>\n",
       "      <td>1585473482</td>\n",
       "    </tr>\n",
       "    <tr>\n",
       "      <th>20</th>\n",
       "      <td>29493</td>\n",
       "      <td>False</td>\n",
       "      <td>computer</td>\n",
       "      <td>1585471842</td>\n",
       "    </tr>\n",
       "    <tr>\n",
       "      <th>21</th>\n",
       "      <td>22398</td>\n",
       "      <td>False</td>\n",
       "      <td>phone</td>\n",
       "      <td>1585422562</td>\n",
       "    </tr>\n",
       "    <tr>\n",
       "      <th>22</th>\n",
       "      <td>35162</td>\n",
       "      <td>True</td>\n",
       "      <td>computer</td>\n",
       "      <td>1585457606</td>\n",
       "    </tr>\n",
       "    <tr>\n",
       "      <th>23</th>\n",
       "      <td>83906</td>\n",
       "      <td>True</td>\n",
       "      <td>computer</td>\n",
       "      <td>1585416908</td>\n",
       "    </tr>\n",
       "    <tr>\n",
       "      <th>24</th>\n",
       "      <td>71683</td>\n",
       "      <td>True</td>\n",
       "      <td>computer</td>\n",
       "      <td>1585452614</td>\n",
       "    </tr>\n",
       "    <tr>\n",
       "      <th>25</th>\n",
       "      <td>6840</td>\n",
       "      <td>True</td>\n",
       "      <td>computer</td>\n",
       "      <td>1585432794</td>\n",
       "    </tr>\n",
       "    <tr>\n",
       "      <th>26</th>\n",
       "      <td>27661</td>\n",
       "      <td>True</td>\n",
       "      <td>phone</td>\n",
       "      <td>1585400447</td>\n",
       "    </tr>\n",
       "    <tr>\n",
       "      <th>27</th>\n",
       "      <td>49625</td>\n",
       "      <td>False</td>\n",
       "      <td>phone</td>\n",
       "      <td>1585447789</td>\n",
       "    </tr>\n",
       "    <tr>\n",
       "      <th>28</th>\n",
       "      <td>92736</td>\n",
       "      <td>True</td>\n",
       "      <td>phone</td>\n",
       "      <td>1585435280</td>\n",
       "    </tr>\n",
       "    <tr>\n",
       "      <th>29</th>\n",
       "      <td>42638</td>\n",
       "      <td>True</td>\n",
       "      <td>computer</td>\n",
       "      <td>1585467436</td>\n",
       "    </tr>\n",
       "    <tr>\n",
       "      <th>30</th>\n",
       "      <td>85070</td>\n",
       "      <td>True</td>\n",
       "      <td>computer</td>\n",
       "      <td>1585435523</td>\n",
       "    </tr>\n",
       "    <tr>\n",
       "      <th>31</th>\n",
       "      <td>88961</td>\n",
       "      <td>True</td>\n",
       "      <td>tablet</td>\n",
       "      <td>1585435600</td>\n",
       "    </tr>\n",
       "    <tr>\n",
       "      <th>32</th>\n",
       "      <td>92503</td>\n",
       "      <td>True</td>\n",
       "      <td>tablet</td>\n",
       "      <td>1585432994</td>\n",
       "    </tr>\n",
       "    <tr>\n",
       "      <th>33</th>\n",
       "      <td>53978</td>\n",
       "      <td>True</td>\n",
       "      <td>computer</td>\n",
       "      <td>1585408637</td>\n",
       "    </tr>\n",
       "    <tr>\n",
       "      <th>34</th>\n",
       "      <td>84945</td>\n",
       "      <td>False</td>\n",
       "      <td>phone</td>\n",
       "      <td>1585470217</td>\n",
       "    </tr>\n",
       "    <tr>\n",
       "      <th>35</th>\n",
       "      <td>93566</td>\n",
       "      <td>True</td>\n",
       "      <td>phone</td>\n",
       "      <td>1585402766</td>\n",
       "    </tr>\n",
       "    <tr>\n",
       "      <th>36</th>\n",
       "      <td>65128</td>\n",
       "      <td>True</td>\n",
       "      <td>phone</td>\n",
       "      <td>1585479904</td>\n",
       "    </tr>\n",
       "    <tr>\n",
       "      <th>37</th>\n",
       "      <td>17861</td>\n",
       "      <td>True</td>\n",
       "      <td>computer</td>\n",
       "      <td>1585428869</td>\n",
       "    </tr>\n",
       "    <tr>\n",
       "      <th>38</th>\n",
       "      <td>78349</td>\n",
       "      <td>True</td>\n",
       "      <td>phone</td>\n",
       "      <td>1585475699</td>\n",
       "    </tr>\n",
       "    <tr>\n",
       "      <th>39</th>\n",
       "      <td>53396</td>\n",
       "      <td>False</td>\n",
       "      <td>computer</td>\n",
       "      <td>1585442110</td>\n",
       "    </tr>\n",
       "    <tr>\n",
       "      <th>40</th>\n",
       "      <td>87780</td>\n",
       "      <td>False</td>\n",
       "      <td>phone</td>\n",
       "      <td>1585455393</td>\n",
       "    </tr>\n",
       "    <tr>\n",
       "      <th>41</th>\n",
       "      <td>41785</td>\n",
       "      <td>True</td>\n",
       "      <td>phone</td>\n",
       "      <td>1585412186</td>\n",
       "    </tr>\n",
       "    <tr>\n",
       "      <th>42</th>\n",
       "      <td>51297</td>\n",
       "      <td>True</td>\n",
       "      <td>phone</td>\n",
       "      <td>1585405249</td>\n",
       "    </tr>\n",
       "    <tr>\n",
       "      <th>43</th>\n",
       "      <td>10469</td>\n",
       "      <td>True</td>\n",
       "      <td>computer</td>\n",
       "      <td>1585412827</td>\n",
       "    </tr>\n",
       "    <tr>\n",
       "      <th>44</th>\n",
       "      <td>97697</td>\n",
       "      <td>True</td>\n",
       "      <td>computer</td>\n",
       "      <td>1585418723</td>\n",
       "    </tr>\n",
       "    <tr>\n",
       "      <th>45</th>\n",
       "      <td>36938</td>\n",
       "      <td>True</td>\n",
       "      <td>computer</td>\n",
       "      <td>1585410255</td>\n",
       "    </tr>\n",
       "    <tr>\n",
       "      <th>46</th>\n",
       "      <td>90530</td>\n",
       "      <td>True</td>\n",
       "      <td>phone</td>\n",
       "      <td>1585431844</td>\n",
       "    </tr>\n",
       "    <tr>\n",
       "      <th>47</th>\n",
       "      <td>69455</td>\n",
       "      <td>True</td>\n",
       "      <td>phone</td>\n",
       "      <td>1585472731</td>\n",
       "    </tr>\n",
       "    <tr>\n",
       "      <th>48</th>\n",
       "      <td>56930</td>\n",
       "      <td>True</td>\n",
       "      <td>phone</td>\n",
       "      <td>1585410632</td>\n",
       "    </tr>\n",
       "    <tr>\n",
       "      <th>49</th>\n",
       "      <td>36238</td>\n",
       "      <td>True</td>\n",
       "      <td>phone</td>\n",
       "      <td>1585477765</td>\n",
       "    </tr>\n",
       "    <tr>\n",
       "      <th>50</th>\n",
       "      <td>61473</td>\n",
       "      <td>True</td>\n",
       "      <td>phone</td>\n",
       "      <td>1585462619</td>\n",
       "    </tr>\n",
       "    <tr>\n",
       "      <th>51</th>\n",
       "      <td>61950</td>\n",
       "      <td>True</td>\n",
       "      <td>computer</td>\n",
       "      <td>1585459224</td>\n",
       "    </tr>\n",
       "    <tr>\n",
       "      <th>52</th>\n",
       "      <td>95972</td>\n",
       "      <td>True</td>\n",
       "      <td>computer</td>\n",
       "      <td>1585460257</td>\n",
       "    </tr>\n",
       "    <tr>\n",
       "      <th>53</th>\n",
       "      <td>93718</td>\n",
       "      <td>True</td>\n",
       "      <td>computer</td>\n",
       "      <td>1585466349</td>\n",
       "    </tr>\n",
       "    <tr>\n",
       "      <th>54</th>\n",
       "      <td>61119</td>\n",
       "      <td>True</td>\n",
       "      <td>phone</td>\n",
       "      <td>1585444847</td>\n",
       "    </tr>\n",
       "  </tbody>\n",
       "</table>\n",
       "</div>"
      ],
      "text/plain": [
       "    client  success  platform        time\n",
       "0    40177     True     phone  1585412212\n",
       "1    61468     True     phone  1585425658\n",
       "2    35604    False     phone  1585459894\n",
       "3     9961     True     phone  1585400189\n",
       "4    10931     True  computer  1585468629\n",
       "5    41928     True     phone  1585446772\n",
       "6    48925     True     phone  1585467880\n",
       "7    32167     True  computer  1585457972\n",
       "8    83888     True     phone  1585422273\n",
       "9    71087     True  computer  1585458446\n",
       "10   11983     True     phone  1585459511\n",
       "11     502     True  computer  1585476186\n",
       "12    3553     True     phone  1585477816\n",
       "13   51575     True  computer  1585409788\n",
       "14   98357    False  computer  1585465005\n",
       "15   39975     True  computer  1585428343\n",
       "16   17815     True  computer  1585448961\n",
       "17   99308     True  computer  1585409409\n",
       "18   36606     True     phone  1585457831\n",
       "19   87937     True  computer  1585473482\n",
       "20   29493    False  computer  1585471842\n",
       "21   22398    False     phone  1585422562\n",
       "22   35162     True  computer  1585457606\n",
       "23   83906     True  computer  1585416908\n",
       "24   71683     True  computer  1585452614\n",
       "25    6840     True  computer  1585432794\n",
       "26   27661     True     phone  1585400447\n",
       "27   49625    False     phone  1585447789\n",
       "28   92736     True     phone  1585435280\n",
       "29   42638     True  computer  1585467436\n",
       "30   85070     True  computer  1585435523\n",
       "31   88961     True    tablet  1585435600\n",
       "32   92503     True    tablet  1585432994\n",
       "33   53978     True  computer  1585408637\n",
       "34   84945    False     phone  1585470217\n",
       "35   93566     True     phone  1585402766\n",
       "36   65128     True     phone  1585479904\n",
       "37   17861     True  computer  1585428869\n",
       "38   78349     True     phone  1585475699\n",
       "39   53396    False  computer  1585442110\n",
       "40   87780    False     phone  1585455393\n",
       "41   41785     True     phone  1585412186\n",
       "42   51297     True     phone  1585405249\n",
       "43   10469     True  computer  1585412827\n",
       "44   97697     True  computer  1585418723\n",
       "45   36938     True  computer  1585410255\n",
       "46   90530     True     phone  1585431844\n",
       "47   69455     True     phone  1585472731\n",
       "48   56930     True     phone  1585410632\n",
       "49   36238     True     phone  1585477765\n",
       "50   61473     True     phone  1585462619\n",
       "51   61950     True  computer  1585459224\n",
       "52   95972     True  computer  1585460257\n",
       "53   93718     True  computer  1585466349\n",
       "54   61119     True     phone  1585444847"
      ]
     },
     "execution_count": 93,
     "metadata": {},
     "output_type": "execute_result"
    }
   ],
   "source": [
    "logs.head(55)\n",
    "# вывожу заголовки таблицы и 5 первых строк"
   ]
  },
  {
   "cell_type": "code",
   "execution_count": 91,
   "id": "36da3376",
   "metadata": {},
   "outputs": [
    {
     "data": {
      "text/html": [
       "<div>\n",
       "<style scoped>\n",
       "    .dataframe tbody tr th:only-of-type {\n",
       "        vertical-align: middle;\n",
       "    }\n",
       "\n",
       "    .dataframe tbody tr th {\n",
       "        vertical-align: top;\n",
       "    }\n",
       "\n",
       "    .dataframe thead th {\n",
       "        text-align: right;\n",
       "    }\n",
       "</style>\n",
       "<table border=\"1\" class=\"dataframe\">\n",
       "  <thead>\n",
       "    <tr style=\"text-align: right;\">\n",
       "      <th></th>\n",
       "      <th>client</th>\n",
       "      <th>premium</th>\n",
       "      <th>age</th>\n",
       "    </tr>\n",
       "  </thead>\n",
       "  <tbody>\n",
       "    <tr>\n",
       "      <th>0</th>\n",
       "      <td>46346</td>\n",
       "      <td>False</td>\n",
       "      <td>58</td>\n",
       "    </tr>\n",
       "    <tr>\n",
       "      <th>1</th>\n",
       "      <td>4391</td>\n",
       "      <td>False</td>\n",
       "      <td>55</td>\n",
       "    </tr>\n",
       "    <tr>\n",
       "      <th>2</th>\n",
       "      <td>27372</td>\n",
       "      <td>False</td>\n",
       "      <td>64</td>\n",
       "    </tr>\n",
       "    <tr>\n",
       "      <th>3</th>\n",
       "      <td>11989</td>\n",
       "      <td>False</td>\n",
       "      <td>44</td>\n",
       "    </tr>\n",
       "    <tr>\n",
       "      <th>4</th>\n",
       "      <td>60664</td>\n",
       "      <td>False</td>\n",
       "      <td>49</td>\n",
       "    </tr>\n",
       "  </tbody>\n",
       "</table>\n",
       "</div>"
      ],
      "text/plain": [
       "   client  premium  age\n",
       "0   46346    False   58\n",
       "1    4391    False   55\n",
       "2   27372    False   64\n",
       "3   11989    False   44\n",
       "4   60664    False   49"
      ]
     },
     "execution_count": 91,
     "metadata": {},
     "output_type": "execute_result"
    }
   ],
   "source": [
    "user_data.head()"
   ]
  },
  {
   "cell_type": "markdown",
   "id": "1137be31",
   "metadata": {},
   "source": [
    "Чтобы узнать размер таблицы (датафрэйма), нужно обратиться к атрибуту.\n",
    "**shape**\n",
    "возвращает кортеж (упрощённый список, обращаюсь к нему, как к списку), где сначала идёт число строк, а потом число колонок\n",
    "**выясню типы колонок**\n",
    "Для этого применяю атрибут\n",
    "**dtypes**\n",
    "быстро взглянуть на информацию о распределении данных\n",
    "можно использовать метод \n",
    "**describe**\n"
   ]
  },
  {
   "cell_type": "code",
   "execution_count": 34,
   "id": "b23dd660",
   "metadata": {},
   "outputs": [
    {
     "data": {
      "text/plain": [
       "count      4500\n",
       "unique        3\n",
       "top       phone\n",
       "freq       2753\n",
       "Name: platform, dtype: object"
      ]
     },
     "execution_count": 34,
     "metadata": {},
     "output_type": "execute_result"
    }
   ],
   "source": [
    "logs.platform.describe()\n",
    "# видим, переменная принемает 3 уникальных значения, тип данных object, количество строк 4500,\n",
    "# самое популярнрное значение phone "
   ]
  },
  {
   "cell_type": "markdown",
   "id": "33283664",
   "metadata": {},
   "source": [
    "Узнаю, какой клиент совершил больше всего успешных операций.\n",
    "\n",
    "Возможно, несколько пользователей совершили одинаковое число успешных действий, перечислю их идентификаторы (client) через запятую и пробел в порядке возрастания. "
   ]
  },
  {
   "cell_type": "markdown",
   "id": "2bb9afd7",
   "metadata": {},
   "source": [
    "'**query**' -\n",
    "Этим методом отберу успешные значения, далее проведу группировку по клиентам, и посчитаю для каждого клиента число успешных операций с помощью \n",
    "'**groupby**';\n",
    "'**agg**';\n",
    "'**count**';\n",
    "'**sort_values**'.\n",
    "Выведу список клиентов по убыванию (cверху топовые - совершившие максимальное количество покупок) \n",
    "Сохраняю результат в отдельную переменную **success_number**.\n",
    "Далее узнаю максимальное число успешных действий(покупок), результат сохраню в переменную **max_success**, отображает id клиента и количество совершенных им покупокупок.\n"
   ]
  },
  {
   "cell_type": "code",
   "execution_count": 65,
   "id": "30b21780",
   "metadata": {},
   "outputs": [
    {
     "data": {
      "text/html": [
       "<div>\n",
       "<style scoped>\n",
       "    .dataframe tbody tr th:only-of-type {\n",
       "        vertical-align: middle;\n",
       "    }\n",
       "\n",
       "    .dataframe tbody tr th {\n",
       "        vertical-align: top;\n",
       "    }\n",
       "\n",
       "    .dataframe thead th {\n",
       "        text-align: right;\n",
       "    }\n",
       "</style>\n",
       "<table border=\"1\" class=\"dataframe\">\n",
       "  <thead>\n",
       "    <tr style=\"text-align: right;\">\n",
       "      <th></th>\n",
       "      <th>client</th>\n",
       "      <th>success_number</th>\n",
       "    </tr>\n",
       "  </thead>\n",
       "  <tbody>\n",
       "    <tr>\n",
       "      <th>332</th>\n",
       "      <td>12179</td>\n",
       "      <td>41</td>\n",
       "    </tr>\n",
       "    <tr>\n",
       "      <th>1758</th>\n",
       "      <td>61468</td>\n",
       "      <td>41</td>\n",
       "    </tr>\n",
       "    <tr>\n",
       "      <th>1487</th>\n",
       "      <td>52870</td>\n",
       "      <td>41</td>\n",
       "    </tr>\n",
       "    <tr>\n",
       "      <th>1759</th>\n",
       "      <td>61473</td>\n",
       "      <td>41</td>\n",
       "    </tr>\n",
       "    <tr>\n",
       "      <th>2626</th>\n",
       "      <td>92584</td>\n",
       "      <td>41</td>\n",
       "    </tr>\n",
       "    <tr>\n",
       "      <th>...</th>\n",
       "      <td>...</td>\n",
       "      <td>...</td>\n",
       "    </tr>\n",
       "    <tr>\n",
       "      <th>956</th>\n",
       "      <td>34121</td>\n",
       "      <td>1</td>\n",
       "    </tr>\n",
       "    <tr>\n",
       "      <th>957</th>\n",
       "      <td>34191</td>\n",
       "      <td>1</td>\n",
       "    </tr>\n",
       "    <tr>\n",
       "      <th>958</th>\n",
       "      <td>34198</td>\n",
       "      <td>1</td>\n",
       "    </tr>\n",
       "    <tr>\n",
       "      <th>959</th>\n",
       "      <td>34277</td>\n",
       "      <td>1</td>\n",
       "    </tr>\n",
       "    <tr>\n",
       "      <th>2844</th>\n",
       "      <td>99993</td>\n",
       "      <td>1</td>\n",
       "    </tr>\n",
       "  </tbody>\n",
       "</table>\n",
       "<p>2845 rows × 2 columns</p>\n",
       "</div>"
      ],
      "text/plain": [
       "      client  success_number\n",
       "332    12179              41\n",
       "1758   61468              41\n",
       "1487   52870              41\n",
       "1759   61473              41\n",
       "2626   92584              41\n",
       "...      ...             ...\n",
       "956    34121               1\n",
       "957    34191               1\n",
       "958    34198               1\n",
       "959    34277               1\n",
       "2844   99993               1\n",
       "\n",
       "[2845 rows x 2 columns]"
      ]
     },
     "execution_count": 65,
     "metadata": {},
     "output_type": "execute_result"
    }
   ],
   "source": [
    "success_number = logs.query('success == True') \\\n",
    "                    .groupby('client', as_index=False) \\\n",
    "                    .agg({'platform' : 'count'}) \\\n",
    "                    .rename(columns={'platform' : 'success_number'}) \\\n",
    "                    .sort_values('success_number', ascending=False)\n",
    "\n",
    "# ascending - вывод при сортировке 1->9 или False = 9->1\n",
    "\n",
    "success_number"
   ]
  },
  {
   "cell_type": "code",
   "execution_count": 36,
   "id": "85d75a22",
   "metadata": {},
   "outputs": [
    {
     "data": {
      "text/plain": [
       "client            99993\n",
       "success_number       41\n",
       "dtype: int64"
      ]
     },
     "execution_count": 36,
     "metadata": {},
     "output_type": "execute_result"
    }
   ],
   "source": [
    "maximum_success = success_number.max()\n",
    "maximum_success"
   ]
  },
  {
   "cell_type": "markdown",
   "id": "b4d75114",
   "metadata": {},
   "source": [
    "Далее узнаю всех клиентов с числом максимальных действий равных максимуму и извлеку id клиентов в список (successful_clients), отсортировав в порядке возрастания "
   ]
  },
  {
   "cell_type": "code",
   "execution_count": 37,
   "id": "29357e03",
   "metadata": {},
   "outputs": [],
   "source": [
    "successful_clients = success_number.query('success_number == @maximum_success.success_number') \\\n",
    "                                    .sort_values('client') \\\n",
    "                                    .client \\\n",
    "                                    .tolist()\n",
    "\n",
    "# tolist() используется для преобразования серии в список"
   ]
  },
  {
   "cell_type": "code",
   "execution_count": 38,
   "id": "a62047d6",
   "metadata": {},
   "outputs": [
    {
     "data": {
      "text/plain": [
       "[12179, 28719, 36165, 52870, 61468, 61473, 78349, 82563, 92584]"
      ]
     },
     "execution_count": 38,
     "metadata": {},
     "output_type": "execute_result"
    }
   ],
   "source": [
    "successful_clients\n",
    "# пользователи совершили одинаковое число успешных действий, \n",
    "     # вывел их идентификаторы (client) через запятую и пробел в порядке возрастания"
   ]
  },
  {
   "cell_type": "markdown",
   "id": "892e447d",
   "metadata": {},
   "source": [
    "Далее применяю метод **join**  для создания списка из строк.\n",
    "Т.е сейчас есть числа из которох создаю список, переведя числа в строки.\n"
   ]
  },
  {
   "cell_type": "code",
   "execution_count": 39,
   "id": "faa7375e",
   "metadata": {},
   "outputs": [
    {
     "data": {
      "text/plain": [
       "'12179, 28719, 36165, 52870, 61468, 61473, 78349, 82563, 92584'"
      ]
     },
     "execution_count": 39,
     "metadata": {},
     "output_type": "execute_result"
    }
   ],
   "source": [
    "', '. join([str(client) for client in successful_clients])"
   ]
  },
  {
   "cell_type": "markdown",
   "id": "c382f1d7",
   "metadata": {},
   "source": [
    "**Теперь использую более простой метод**\n"
   ]
  },
  {
   "cell_type": "code",
   "execution_count": 70,
   "id": "9d167027",
   "metadata": {},
   "outputs": [],
   "source": [
    "success_number_2 = logs \\\n",
    "                       .groupby('client', as_index=False) \\\n",
    "                       .agg({'success' : 'sum'}) \\\n",
    "                       .rename(columns={'success' : 'success_number'}) \\\n",
    "                       .sort_values('success_number', ascending=False)"
   ]
  },
  {
   "cell_type": "code",
   "execution_count": 74,
   "id": "840e8959",
   "metadata": {},
   "outputs": [],
   "source": [
    "successful_clients2 = success_number2.query('success_number == @maximum_success.success_number') \\\n",
    "                                    .sort_values('client') \\\n",
    "                                    .client \\\n",
    "                                    .tolist()"
   ]
  },
  {
   "cell_type": "code",
   "execution_count": 75,
   "id": "94c4533f",
   "metadata": {},
   "outputs": [
    {
     "data": {
      "text/plain": [
       "[12179, 28719, 36165, 52870, 61468, 61473, 78349, 82563, 92584]"
      ]
     },
     "execution_count": 75,
     "metadata": {},
     "output_type": "execute_result"
    }
   ],
   "source": [
    "successful_clients2\n",
    "# пользователи совершили одинаковое число успешных действий, \n",
    "     # вывел их идентификаторы (client) через запятую и пробел в порядке возрастания"
   ]
  },
  {
   "cell_type": "markdown",
   "id": "a0294ce2",
   "metadata": {},
   "source": [
    "Проверю расчеты, для того что бы убедиться в верности втрого метода решения."
   ]
  },
  {
   "cell_type": "code",
   "execution_count": 76,
   "id": "c39068c1",
   "metadata": {},
   "outputs": [
    {
     "data": {
      "text/plain": [
       "True"
      ]
     },
     "execution_count": 76,
     "metadata": {},
     "output_type": "execute_result"
    }
   ],
   "source": [
    "successful_clients2 == successful_clients\n",
    "# при сравнении методов получаю ответ \"True\" , следовательно результаты вычеслений равны."
   ]
  },
  {
   "cell_type": "code",
   "execution_count": 77,
   "id": "7288dda4",
   "metadata": {},
   "outputs": [],
   "source": [
    "# Сохраню полученные даныые id пользователей в новый фаил "
   ]
  },
  {
   "cell_type": "code",
   "execution_count": 78,
   "id": "d3df112d",
   "metadata": {},
   "outputs": [],
   "source": [
    "successful_clients_id = pd.DataFrame({'successful_clients_id': [12179, 28719, 36165, 52870, 61468, 61473, 78349, 82563, 92584]})"
   ]
  },
  {
   "cell_type": "code",
   "execution_count": null,
   "id": "c214842d",
   "metadata": {},
   "outputs": [],
   "source": [
    "#with pd.ExcelWriter('successful_clients_id.xlsx') as writer:successful_clients_id.to_excel(writer)    "
   ]
  },
  {
   "cell_type": "code",
   "execution_count": 79,
   "id": "df8f0a75",
   "metadata": {},
   "outputs": [],
   "source": [
    "#writer.save()\n",
    "# список сохранен в нашей рабочей папке в файле Excel имя successful_clients_id"
   ]
  },
  {
   "cell_type": "markdown",
   "id": "a8295007",
   "metadata": {},
   "source": [
    "**Узнаю с какой платформы осуществляется наибольшее количество успешных операций**"
   ]
  },
  {
   "cell_type": "code",
   "execution_count": 87,
   "id": "8b3f2a80",
   "metadata": {},
   "outputs": [],
   "source": [
    "successful_platform = logs.query('success == True').platform.value_counts().idxmax()"
   ]
  },
  {
   "cell_type": "code",
   "execution_count": 81,
   "id": "0763a394",
   "metadata": {},
   "outputs": [
    {
     "name": "stdout",
     "output_type": "stream",
     "text": [
      "phone\n"
     ]
    }
   ],
   "source": [
    "print(successful_platform)"
   ]
  },
  {
   "cell_type": "markdown",
   "id": "64b3ceb0",
   "metadata": {},
   "source": [
    "**Узнаю kакая платформа наиболее популярна среди премиальных клиентов**"
   ]
  },
  {
   "cell_type": "markdown",
   "id": "11ea83b8",
   "metadata": {},
   "source": [
    "Объединяю датафрэймы с клиентами и логами, затем выберу премиумных клиентов.\n",
    "Джоины делаю с помощью метода **merge**."
   ]
  },
  {
   "cell_type": "code",
   "execution_count": 82,
   "id": "46ad0055",
   "metadata": {},
   "outputs": [],
   "source": [
    "data = user_data.merge(logs)"
   ]
  },
  {
   "cell_type": "code",
   "execution_count": 83,
   "id": "6abf42b7",
   "metadata": {},
   "outputs": [
    {
     "data": {
      "text/plain": [
       "phone       246\n",
       "computer    150\n",
       "tablet       24\n",
       "Name: platform, dtype: int64"
      ]
     },
     "execution_count": 83,
     "metadata": {},
     "output_type": "execute_result"
    }
   ],
   "source": [
    "data.query('premium == True').platform.value_counts()"
   ]
  },
  {
   "cell_type": "markdown",
   "id": "9eacded4",
   "metadata": {},
   "source": [
    "phone       177\n",
    "computer    108\n",
    "tablet       18\n",
    "\n",
    "Из результа видим самую папулярную платформу 'phone'"
   ]
  },
  {
   "cell_type": "markdown",
   "id": "9aba8c03",
   "metadata": {},
   "source": [
    "**Визуализирую распределение возраста клиентов в зависимости от типа клиента (премиум или нет)**.\n",
    "\n",
    "\n",
    "\n",
    "\n",
    "Импортирую библиотеку для построения графиков и визуализации."
   ]
  },
  {
   "cell_type": "code",
   "execution_count": 84,
   "id": "934d567b",
   "metadata": {},
   "outputs": [],
   "source": [
    "import seaborn as sns,  numpy as np\n",
    "import numpy as np\n",
    "import matplotlib.pyplot as plt"
   ]
  },
  {
   "cell_type": "code",
   "execution_count": 44,
   "id": "4fe81d57",
   "metadata": {},
   "outputs": [],
   "source": [
    "not_premium_agg = data.query('premium == False').age\n",
    "\n",
    "premium_agg = data.query('premium == True').age"
   ]
  },
  {
   "cell_type": "code",
   "execution_count": 98,
   "id": "5027ae47",
   "metadata": {},
   "outputs": [
    {
     "data": {
      "text/plain": [
       "<AxesSubplot:xlabel='age (years)', ylabel='premium_level'>"
      ]
     },
     "execution_count": 98,
     "metadata": {},
     "output_type": "execute_result"
    },
    {
     "data": {
      "image/png": "[encoded data removed]",
      "text/plain": [
       "<Figure size 432x288 with 2 Axes>"
      ]
     },
     "metadata": {
      "needs_background": "light"
     },
     "output_type": "display_data"
    }
   ],
   "source": [
    "Figure, ax = plt.subplots(nrows=2, ncols=1)\n",
    "plt.xlabel('age (years)')\n",
    "plt.ylabel('premium_level')\n",
    "\n",
    "sns.histplot(data=not_premium_agg, ax=ax[0], kde=True, color='green') \n",
    "sns.histplot(data=premium_agg, ax=ax[1], kde=True, color='#A55555')\n"
   ]
  },
  {
   "cell_type": "markdown",
   "id": "baca9a6a",
   "metadata": {},
   "source": [
    "На графике отображена гистограма не примеальных клиетов с осями: y= уровень примеальности и x= возрас"
   ]
  },
  {
   "cell_type": "code",
   "execution_count": 46,
   "id": "c0878107",
   "metadata": {},
   "outputs": [
    {
     "data": {
      "text/plain": [
       "<seaborn.axisgrid.FacetGrid at 0x1dfe07e74c0>"
      ]
     },
     "execution_count": 46,
     "metadata": {},
     "output_type": "execute_result"
    },
    {
     "data": {
      "image/png": "[encoded data removed]",
      "text/plain": [
       "<Figure size 360x360 with 1 Axes>"
      ]
     },
     "metadata": {
      "needs_background": "light"
     },
     "output_type": "display_data"
    }
   ],
   "source": [
    "sns.displot(not_premium_agg)"
   ]
  },
  {
   "cell_type": "markdown",
   "id": "174ade76",
   "metadata": {},
   "source": [
    "На графике отображена гистограма примеальных клиетов с осями: y = уровень примеальности и x = возрас"
   ]
  },
  {
   "cell_type": "code",
   "execution_count": 47,
   "id": "c842204d",
   "metadata": {},
   "outputs": [
    {
     "data": {
      "text/plain": [
       "<seaborn.axisgrid.FacetGrid at 0x1dfe0813460>"
      ]
     },
     "execution_count": 47,
     "metadata": {},
     "output_type": "execute_result"
    },
    {
     "data": {
      "image/png": "[encoded data removed]",
      "text/plain": [
       "<Figure size 360x360 with 1 Axes>"
      ]
     },
     "metadata": {
      "needs_background": "light"
     },
     "output_type": "display_data"
    }
   ],
   "source": [
    "sns.displot(premium_agg)"
   ]
  },
  {
   "cell_type": "markdown",
   "id": "19fc4e2b",
   "metadata": {},
   "source": [
    "Теперь построю график распределения числа успешных операций: \n",
    "\n",
    "    x – число успешных операций\n",
    "    y – число клиентов, совершивших столько успешных операций"
   ]
  },
  {
   "cell_type": "code",
   "execution_count": 48,
   "id": "1f4e33a5",
   "metadata": {},
   "outputs": [],
   "source": [
    "client_vr_success_number = data.groupby('client') \\\n",
    "                                .agg({'success' : 'sum'})"
   ]
  },
  {
   "cell_type": "code",
   "execution_count": 49,
   "id": "1d8bb1c9",
   "metadata": {},
   "outputs": [
    {
     "data": {
      "text/plain": [
       "<AxesSubplot:ylabel='Count'>"
      ]
     },
     "execution_count": 49,
     "metadata": {},
     "output_type": "execute_result"
    },
    {
     "data": {
      "image/png": "[encoded data removed]",
      "text/plain": [
       "<Figure size 432x288 with 1 Axes>"
      ]
     },
     "metadata": {
      "needs_background": "light"
     },
     "output_type": "display_data"
    }
   ],
   "source": [
    "sns.histplot(client_vr_success_number)"
   ]
  },
  {
   "cell_type": "code",
   "execution_count": 50,
   "id": "09ebc8e4",
   "metadata": {},
   "outputs": [
    {
     "data": {
      "text/plain": [
       "success\n",
       "1          2051\n",
       "0           850\n",
       "2            42\n",
       "41            9\n",
       "3             1\n",
       "40            1\n",
       "dtype: int64"
      ]
     },
     "execution_count": 50,
     "metadata": {},
     "output_type": "execute_result"
    }
   ],
   "source": [
    "client_vr_success_number.value_counts()"
   ]
  },
  {
   "cell_type": "raw",
   "id": "781c4e84",
   "metadata": {},
   "source": [
    "На графике \"client_vr_success_number\" видим как часто встречаюся выражения.\n",
    "\n",
    "25051 клиентов совершили по 1 успешной операции\n",
    "850 клиентов совершили по 0 успешных операций\n",
    "42 клиента совершили по 2 успешные операции\n",
    "9 клиентов совершили по 41 успешной операции\n",
    "1 клиент совершил 3 успешные операции\n",
    "1 клиент совершил 40 супешных операций \n"
   ]
  },
  {
   "cell_type": "markdown",
   "id": "ce4ec61a",
   "metadata": {},
   "source": [
    "Визуализирую число успешных операций, сделанных на платформе computer, в зависимости от возраста.\n",
    "По оси x – возраст, y – число успешных операций. \n",
    "Расчитаю, клиенты какого возраста совершили наибольшее количество успешных действий?\n"
   ]
  },
  {
   "cell_type": "code",
   "execution_count": 51,
   "id": "bcfede8b",
   "metadata": {},
   "outputs": [],
   "source": [
    "age_vs_success_number = data.query('platform == \"computer\"') \\\n",
    "                            .groupby('age', as_index=False ) \\\n",
    "                            .agg({'success' : 'sum' })"
   ]
  },
  {
   "cell_type": "code",
   "execution_count": 52,
   "id": "20275b72",
   "metadata": {},
   "outputs": [
    {
     "data": {
      "text/plain": [
       "<AxesSubplot:xlabel='age', ylabel='success'>"
      ]
     },
     "execution_count": 52,
     "metadata": {},
     "output_type": "execute_result"
    },
    {
     "data": {
      "image/png": "[encoded data removed]",
      "text/plain": [
       "<Figure size 960x720 with 1 Axes>"
      ]
     },
     "metadata": {
      "needs_background": "light"
     },
     "output_type": "display_data"
    }
   ],
   "source": [
    "plt.figure(figsize=(12 , 9), dpi=80)\n",
    "sns.barplot(x='age', y='success', data=age_vs_success_number)"
   ]
  },
  {
   "cell_type": "code",
   "execution_count": 53,
   "id": "68e09789",
   "metadata": {},
   "outputs": [
    {
     "data": {
      "text/plain": [
       "<Figure size 432x288 with 0 Axes>"
      ]
     },
     "metadata": {},
     "output_type": "display_data"
    }
   ],
   "source": [
    "plt.savefig('age_vs_success_number.jpg', dpi=80)"
   ]
  },
  {
   "cell_type": "markdown",
   "id": "6a5e9c9f",
   "metadata": {},
   "source": [
    "Сохраню полученный график в фаил"
   ]
  },
  {
   "cell_type": "code",
   "execution_count": 99,
   "id": "f72117eb",
   "metadata": {},
   "outputs": [
    {
     "data": {
      "text/plain": [
       "<Figure size 432x288 with 0 Axes>"
      ]
     },
     "metadata": {},
     "output_type": "display_data"
    }
   ],
   "source": [
    "plt.savefig('computer_success.jpg')"
   ]
  },
  {
   "cell_type": "markdown",
   "id": "df750a38",
   "metadata": {},
   "source": [
    "# Аналитическая записка\n",
    "\n",
    "### Итоги аналитического исследования пользователей\n",
    "\n",
    "* В результате подведения аналитического исследования данных в датасете user_data, содержится 2954 строки и 3 колонки:client(id_клиента), premium(статус - True или False), и age(возраст), в датасете logsв содержится 4500 строк и 4 колонки:client(id_клиента), success(статус покупки - True или False), platform(платформа применяемая пользователем - phone, computer или tablet), time(время в которое пользователь совершил действие), пропущенных значений не обнаружено.\n",
    "* Выявлены три уникальных значений переменная platform, наиболее популярно значение phone, пользователи исследуемые в данной выборке, совершают действия с помощью телефона встречаются чаще чем с применением компьютеров или планшетов.\n",
    "* Клиент с id_(12179, 28719, 36165, 52870, 61468, 61473, 78349, 82563, 92584) совершил больше всего успешных операций, количество успешных действий каждого из предоставленного списка ровняются 41.\n",
    "* Наибольшее количество успешных операций осуществлялось с платформы \"phone\"\n",
    "* Премиальные клиенты использовали платформу \"phone\" в 246 случаях, платформу \"computer\" в 150 случаях и платформу \"tablet\" в 24 случаях.\n",
    "* Применил визуализацию распределения для построения графиков, отображающих распределение возраста клиента с зависимостью статуса клиента(премиум или нет). Bi инструменты подходят для наглядной визуализации, для данного примера остановлюсь на полученных графиках.\n",
    "* Построил график распределения числа успешных операций, отображающий количество операций  на оси Y, а количество пользователей на оси X, мы можем видеть большинство наблюдений сосредоточены в левой части графика, это указывает на то что, большинство клиентов совершили от 1 до 3 операций, а так же есть небольшой пик около 40 операций.\n",
    "* Визуализировав число успешных операций, сделанных на платформе computer, в зависимости от возраста, (ось X – возраст клиентов, ось Y – число успешных операций). Можем видеть что клиенты в возрасте 28 лет, совершили наибольшее количество успешных действий.\n",
    "\n",
    "\n",
    "                                                                                                            С уважением,\n",
    "                                                                                                            Осокин Максим\n",
    "                                                                                                           "
   ]
  }
 ],
 "metadata": {
  "kernelspec": {
   "display_name": "Python 3 (ipykernel)",
   "language": "python",
   "name": "python3"
  },
  "language_info": {
   "codemirror_mode": {
    "name": "ipython",
    "version": 3
   },
   "file_extension": ".py",
   "mimetype": "text/x-python",
   "name": "python",
   "nbconvert_exporter": "python",
   "pygments_lexer": "ipython3",
   "version": "3.9.7"
  }
 },
 "nbformat": 4,
 "nbformat_minor": 5
}
