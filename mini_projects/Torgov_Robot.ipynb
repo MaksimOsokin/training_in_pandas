{
 "cells": [
  {
   "cell_type": "code",
   "execution_count": 6,
   "id": "06830c52",
   "metadata": {},
   "outputs": [],
   "source": [
    "# ///\n",
    "\n",
    "import requests \n",
    "import numpy as np\n",
    "import pandas as pd\n",
    "import statsmodels.api as sm\n",
    "import matplotlib.pyplot as plt\n",
    "import copy\n",
    "import time\n",
    "import random\n",
    "\n",
    "from binance import Client, ThreadedWebsocketManager, ThreadedDepthCacheManager\n",
    "#from futures_sign import send_signed_reqest, send_public_request\n",
    "#from cerd import KEY, SECRET"
   ]
  },
  {
   "cell_type": "code",
   "execution_count": 8,
   "id": "b36f6c45",
   "metadata": {},
   "outputs": [],
   "source": [
    "symbol='ETHUSDT'\n",
    "#client = Client(KEY, SECRET)\n",
    "\n",
    "maxposition = 0.03\n",
    "stop_percent= 0.01 # 0.01=1%\n",
    "eth_proffit_array=[[15,1],[20,1],[27,1],[37,2],[52,2],[87,1],[150,1],[200,1]]\n",
    "# измение значений в масиве поможет найти комбинацию с максимальной доходностью\n",
    "profit_array=copy.copy(eth_proffit_array)\n",
    "\n",
    "pointer=str(random.randint(1000, 9999))"
   ]
  },
  {
   "cell_type": "code",
   "execution_count": 9,
   "id": "43734d75",
   "metadata": {},
   "outputs": [],
   "source": [
    "# Get Last 500 kandels 5 minutes fof Symbol\n",
    "\n",
    "def get_fufures_klines(symbol,limit=500):\n",
    "    x = requests.get('nttps://binance.com/fapi/v1/klines?symbol='+symbol+'$limit='+str(limit)+'$interval=5m')\n",
    "    df=pd.DataFrame(x.json())\n",
    "    df.colums=['open_time', 'open', 'high', 'low', 'close', 'volume', 'close_time']\n",
    "    df['open'] = df['open'].astype(float)\n",
    "    df['high'] = df['high'].astype(float)\n",
    "    df['low'] = df['low'].astype(float)\n",
    "    df['close'] = df['close'].astype(float)\n",
    "    df['volume'] = df['volume'].astype(float)\n",
    "    return(df)"
   ]
  },
  {
   "cell_type": "code",
   "execution_count": null,
   "id": "1bdcb5ce",
   "metadata": {},
   "outputs": [],
   "source": [
    "# Open position for Sybol with\n",
    "\n",
    "def open_position(symbol, s_1, quantity_1):\n",
    "    prt('open: '+symbol' quanty: '+str(quantity_1))\n",
    "    sprice=get_symbol_prisce(symbol)\n",
    "    "
   ]
  },
  {
   "cell_type": "code",
   "execution_count": null,
   "id": "81482787",
   "metadata": {},
   "outputs": [],
   "source": []
  }
 ],
 "metadata": {
  "kernelspec": {
   "display_name": "Python 3 (ipykernel)",
   "language": "python",
   "name": "python3"
  },
  "language_info": {
   "codemirror_mode": {
    "name": "ipython",
    "version": 3
   },
   "file_extension": ".py",
   "mimetype": "text/x-python",
   "name": "python",
   "nbconvert_exporter": "python",
   "pygments_lexer": "ipython3",
   "version": "3.9.7"
  }
 },
 "nbformat": 4,
 "nbformat_minor": 5
}
