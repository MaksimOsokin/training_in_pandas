{
 "cells": [
  {
   "cell_type": "markdown",
   "id": "cf29b7b7",
   "metadata": {},
   "source": [
    "#### Задача \n",
    "\n",
    "##### Создать базу данных  **user_actions** в которой  сохраняются действия покупателей в интернет магазине, структура таблицы\n",
    "\n",
    "* user_id - id пользователя\n",
    "* product_id - id товара\n",
    "* action - действие, просмотр товара, сохранение в корзину, покупка\n",
    "* time - время совершения события\n",
    "\n",
    "**данные будут логически верные, но не подойдут для выявления паттернов пользователей**"
   ]
  },
  {
   "cell_type": "code",
   "execution_count": 19,
   "id": "8a10e1c2",
   "metadata": {},
   "outputs": [],
   "source": [
    "import pandas as pd\n",
    "import numpy as np"
   ]
  },
  {
   "cell_type": "code",
   "execution_count": 20,
   "id": "aa1255c7",
   "metadata": {},
   "outputs": [],
   "source": [
    "all_user_ids    = np.arange(1, 1000) #999 пользователей\n",
    "all_product_ids = np.arange(1, 100)\n",
    "\n",
    "# Сгенерировал масив пользователей и  99 товаров"
   ]
  },
  {
   "cell_type": "code",
   "execution_count": 21,
   "id": "205ef768",
   "metadata": {},
   "outputs": [],
   "source": [
    "n = 10000\n",
    "# к-во строк"
   ]
  },
  {
   "cell_type": "code",
   "execution_count": 22,
   "id": "c7402307",
   "metadata": {},
   "outputs": [],
   "source": [
    "user_ids        = np.random.choice(all_user_ids, n)\n",
    "product_ids     = np.random.choice(all_product_ids, n)\n",
    "# с помощью функции random.choice сгенерирова 10 000 id и событий связанных с продуктами"
   ]
  },
  {
   "cell_type": "code",
   "execution_count": 23,
   "id": "bfa5747b",
   "metadata": {},
   "outputs": [],
   "source": [
    "start_date = pd.to_datetime('2022-01-01') \n",
    "# сгенерировал временную шкалу, выбрав дату и время старта"
   ]
  },
  {
   "cell_type": "code",
   "execution_count": 24,
   "id": "589be253",
   "metadata": {},
   "outputs": [],
   "source": [
    "times = pd.date_range(start_date, periods=n, freq='1min')\n",
    "# указал интервал времени между событиями"
   ]
  },
  {
   "cell_type": "code",
   "execution_count": 25,
   "id": "36942e12",
   "metadata": {},
   "outputs": [],
   "source": [
    "user_actions = pd.DataFrame({'user_id' : user_ids,\n",
    "                             'product_id' : product_ids,\n",
    "                             'time' : times})"
   ]
  },
  {
   "cell_type": "code",
   "execution_count": 26,
   "id": "f23aa0d3",
   "metadata": {},
   "outputs": [],
   "source": [
    "user_actions['date'] = user_actions.time.dt.date"
   ]
  },
  {
   "cell_type": "code",
   "execution_count": 27,
   "id": "f518aa58",
   "metadata": {},
   "outputs": [],
   "source": [
    "user_actions['action'] = 'view'"
   ]
  },
  {
   "cell_type": "code",
   "execution_count": 28,
   "id": "cbe7b601",
   "metadata": {},
   "outputs": [
    {
     "data": {
      "text/html": [
       "<div>\n",
       "<style scoped>\n",
       "    .dataframe tbody tr th:only-of-type {\n",
       "        vertical-align: middle;\n",
       "    }\n",
       "\n",
       "    .dataframe tbody tr th {\n",
       "        vertical-align: top;\n",
       "    }\n",
       "\n",
       "    .dataframe thead th {\n",
       "        text-align: right;\n",
       "    }\n",
       "</style>\n",
       "<table border=\"1\" class=\"dataframe\">\n",
       "  <thead>\n",
       "    <tr style=\"text-align: right;\">\n",
       "      <th></th>\n",
       "      <th>user_id</th>\n",
       "      <th>product_id</th>\n",
       "      <th>time</th>\n",
       "      <th>date</th>\n",
       "      <th>action</th>\n",
       "    </tr>\n",
       "  </thead>\n",
       "  <tbody>\n",
       "    <tr>\n",
       "      <th>0</th>\n",
       "      <td>121</td>\n",
       "      <td>59</td>\n",
       "      <td>2022-01-01 00:00:00</td>\n",
       "      <td>2022-01-01</td>\n",
       "      <td>view</td>\n",
       "    </tr>\n",
       "    <tr>\n",
       "      <th>1</th>\n",
       "      <td>105</td>\n",
       "      <td>54</td>\n",
       "      <td>2022-01-01 00:01:00</td>\n",
       "      <td>2022-01-01</td>\n",
       "      <td>view</td>\n",
       "    </tr>\n",
       "    <tr>\n",
       "      <th>2</th>\n",
       "      <td>708</td>\n",
       "      <td>58</td>\n",
       "      <td>2022-01-01 00:02:00</td>\n",
       "      <td>2022-01-01</td>\n",
       "      <td>view</td>\n",
       "    </tr>\n",
       "    <tr>\n",
       "      <th>3</th>\n",
       "      <td>813</td>\n",
       "      <td>50</td>\n",
       "      <td>2022-01-01 00:03:00</td>\n",
       "      <td>2022-01-01</td>\n",
       "      <td>view</td>\n",
       "    </tr>\n",
       "    <tr>\n",
       "      <th>4</th>\n",
       "      <td>557</td>\n",
       "      <td>95</td>\n",
       "      <td>2022-01-01 00:04:00</td>\n",
       "      <td>2022-01-01</td>\n",
       "      <td>view</td>\n",
       "    </tr>\n",
       "  </tbody>\n",
       "</table>\n",
       "</div>"
      ],
      "text/plain": [
       "   user_id  product_id                time        date action\n",
       "0      121          59 2022-01-01 00:00:00  2022-01-01   view\n",
       "1      105          54 2022-01-01 00:01:00  2022-01-01   view\n",
       "2      708          58 2022-01-01 00:02:00  2022-01-01   view\n",
       "3      813          50 2022-01-01 00:03:00  2022-01-01   view\n",
       "4      557          95 2022-01-01 00:04:00  2022-01-01   view"
      ]
     },
     "execution_count": 28,
     "metadata": {},
     "output_type": "execute_result"
    }
   ],
   "source": [
    "user_actions.head(5)"
   ]
  },
  {
   "cell_type": "code",
   "execution_count": 29,
   "id": "844ddffb",
   "metadata": {},
   "outputs": [],
   "source": [
    "def generate_funel_actions(user_id, product_id, time, action):\n",
    "    \n",
    "    to_cart = 0.2\n",
    "    to_purchase = 0.4\n",
    "    \n",
    "    df= pd.DataFrame() \n",
    "    \n",
    "    if np.random.binomial(1, to_cart, 1)[0]:\n",
    "                df = pd.DataFrame({'user_id'    : user_id,\n",
    "                                   'product_id' : product_id,\n",
    "                                   'time'       : times + pd.Timedelta(5, unit='s'),\n",
    "                                   'action'     : 'ad to cart'}, index=[0])\n",
    "                if np.random.binom(1, to_puchase, 1)[0]:\n",
    "                    df_purcahase = pd.DataFrame({\n",
    "                                    'user_id'    : user_id,\n",
    "                                    'product_id' : product_id,\n",
    "                                    'time'       : time + pd.Timedelta(10, unit='s'),\n",
    "                                    'action'     : 'purchase'}, index=[0])\n",
    "                    df = df.append(df_purcahase)\n",
    "    return df      \n",
    "    \n",
    "# функция реализует алгоритм подбрасывания монетки , буду считать \n",
    "# с вероятностью 0.2 пользователь кладет товар в корзину,\n",
    "# с вероятностью 0.4 совершает покупку\n",
    "# мы подрасываем монтку и если \n",
    "# выпадает орел, по условию мы генерируем датафрейм, который создает запись о добавлении товара в корзину и сдвигает это событие на 5 секунд относительно просмотра\n",
    "# втрой бросок опять выпадает орел, генерирую еще одно дейстивие, пользователь совершает покупку товара с временным интервалом от преведушего действия в 10 секунд"
   ]
  },
  {
   "cell_type": "code",
   "execution_count": 12,
   "id": "20cbdd5b",
   "metadata": {},
   "outputs": [
    {
     "data": {
      "text/plain": [
       "<function __main__.generate_funel_actions(user_id, product_id, time, action)>"
      ]
     },
     "execution_count": 12,
     "metadata": {},
     "output_type": "execute_result"
    }
   ],
   "source": [
    "generate_funel_actions"
   ]
  },
  {
   "cell_type": "code",
   "execution_count": 13,
   "id": "f6fa4052",
   "metadata": {},
   "outputs": [],
   "source": [
    "to_cart_df = pd.DataFrame()"
   ]
  },
  {
   "cell_type": "code",
   "execution_count": 18,
   "id": "fe828d9a",
   "metadata": {},
   "outputs": [
    {
     "data": {
      "text/plain": [
       "(0,\n",
       " user_id                       905\n",
       " product_id                      4\n",
       " time          2022-01-01 00:00:00\n",
       " date                   2022-01-01\n",
       " action                       view\n",
       " Name: 0, dtype: object)"
      ]
     },
     "execution_count": 18,
     "metadata": {},
     "output_type": "execute_result"
    }
   ],
   "source": []
  },
  {
   "cell_type": "code",
   "execution_count": 17,
   "id": "0a6b97ca",
   "metadata": {},
   "outputs": [
    {
     "ename": "AttributeError",
     "evalue": "'tuple' object has no attribute 'append'",
     "output_type": "error",
     "traceback": [
      "\u001b[1;31m---------------------------------------------------------------------------\u001b[0m",
      "\u001b[1;31mAttributeError\u001b[0m                            Traceback (most recent call last)",
      "\u001b[1;32mC:\\Users\\PROFES~1\\AppData\\Local\\Temp/ipykernel_4252/1900227489.py\u001b[0m in \u001b[0;36m<module>\u001b[1;34m\u001b[0m\n\u001b[0;32m      1\u001b[0m \u001b[1;32mfor\u001b[0m \u001b[0mto_cart_df\u001b[0m \u001b[1;32min\u001b[0m \u001b[0muser_actions\u001b[0m\u001b[1;33m.\u001b[0m\u001b[0miterrows\u001b[0m\u001b[1;33m(\u001b[0m\u001b[1;33m)\u001b[0m\u001b[1;33m:\u001b[0m\u001b[1;33m\u001b[0m\u001b[1;33m\u001b[0m\u001b[0m\n\u001b[0;32m      2\u001b[0m     \u001b[0muser_df\u001b[0m \u001b[1;33m=\u001b[0m \u001b[0mgenerate_funel_actions\u001b[0m\u001b[1;33m(\u001b[0m\u001b[0mrow\u001b[0m\u001b[1;33m[\u001b[0m\u001b[1;34m'user_id'\u001b[0m\u001b[1;33m]\u001b[0m\u001b[1;33m,\u001b[0m \u001b[0mrow\u001b[0m\u001b[1;33m[\u001b[0m\u001b[1;34m'action'\u001b[0m\u001b[1;33m]\u001b[0m\u001b[1;33m,\u001b[0m \u001b[0mrow\u001b[0m\u001b[1;33m[\u001b[0m\u001b[1;34m'product_id'\u001b[0m\u001b[1;33m]\u001b[0m\u001b[1;33m,\u001b[0m \u001b[0mrow\u001b[0m\u001b[1;33m[\u001b[0m\u001b[1;34m'time'\u001b[0m\u001b[1;33m]\u001b[0m\u001b[1;33m)\u001b[0m\u001b[1;33m\u001b[0m\u001b[1;33m\u001b[0m\u001b[0m\n\u001b[1;32m----> 3\u001b[1;33m     \u001b[0mto_cart_df\u001b[0m \u001b[1;33m=\u001b[0m \u001b[0mto_cart_df\u001b[0m\u001b[1;33m.\u001b[0m\u001b[0mappend\u001b[0m\u001b[1;33m(\u001b[0m\u001b[0muser_df\u001b[0m\u001b[1;33m)\u001b[0m\u001b[1;33m\u001b[0m\u001b[1;33m\u001b[0m\u001b[0m\n\u001b[0m",
      "\u001b[1;31mAttributeError\u001b[0m: 'tuple' object has no attribute 'append'"
     ]
    }
   ],
   "source": [
    "for index, row in user_actions.iterrows():\n",
    "    user_df = generate_funel_actions(row['user_id'], row['product_id'], row['time'])\n",
    "    to_cart_df = to_cart_df.append(user_df)"
   ]
  },
  {
   "cell_type": "code",
   "execution_count": null,
   "id": "9d7b0637",
   "metadata": {},
   "outputs": [],
   "source": [
    "user_actions = user_actions.append(to_cart_df)\n",
    "user_actions = user_actions.sort_vaiues('time')"
   ]
  },
  {
   "cell_type": "code",
   "execution_count": null,
   "id": "dfe52eae",
   "metadata": {},
   "outputs": [],
   "source": []
  },
  {
   "cell_type": "code",
   "execution_count": null,
   "id": "cd087a60",
   "metadata": {},
   "outputs": [],
   "source": [
    "user_actions"
   ]
  },
  {
   "cell_type": "code",
   "execution_count": null,
   "id": "b7be769c",
   "metadata": {},
   "outputs": [],
   "source": []
  },
  {
   "cell_type": "code",
   "execution_count": null,
   "id": "b40a0297",
   "metadata": {},
   "outputs": [],
   "source": []
  },
  {
   "cell_type": "code",
   "execution_count": null,
   "id": "695b4757",
   "metadata": {},
   "outputs": [],
   "source": []
  },
  {
   "cell_type": "code",
   "execution_count": null,
   "id": "345da576",
   "metadata": {},
   "outputs": [],
   "source": []
  },
  {
   "cell_type": "markdown",
   "id": "917d90fd",
   "metadata": {},
   "source": [
    "https://question-it.com/\n",
    "https://www.cyberforum.ru/python-tasks/thread2883132.html\n",
    "https://www.dmitrymakarov.ru/python/random-11/\n",
    "https://all-python.ru/osnovy/funktsii.html\n",
    "https://www.stackfinder.ru/questions/27644617/difference-between-n-and-size-parameters-in-np-random-binomialn-p-size-1000\n",
    "https://russianblogs.com/\n",
    "https://all-python.ru/osnovy/funktsii.html\n",
    "https://www.cyberforum.ru/python-tasks/\n",
    "\n",
    "http://pastie.org"
   ]
  }
 ],
 "metadata": {
  "kernelspec": {
   "display_name": "Python 3 (ipykernel)",
   "language": "python",
   "name": "python3"
  },
  "language_info": {
   "codemirror_mode": {
    "name": "ipython",
    "version": 3
   },
   "file_extension": ".py",
   "mimetype": "text/x-python",
   "name": "python",
   "nbconvert_exporter": "python",
   "pygments_lexer": "ipython3",
   "version": "3.9.7"
  }
 },
 "nbformat": 4,
 "nbformat_minor": 5
}
