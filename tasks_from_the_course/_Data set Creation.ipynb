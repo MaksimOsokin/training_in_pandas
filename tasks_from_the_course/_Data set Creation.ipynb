{
 "cells": [
  {
   "cell_type": "markdown",
   "id": "671091b0",
   "metadata": {},
   "source": [
    "#### Здравствуйте\n",
    "\n",
    "Продолжаю улучшать свои навыки и знания.\n",
    "Предлагаю ознакомиться с мини проектом \"Генерация данных\"."
   ]
  },
  {
   "cell_type": "markdown",
   "id": "cecb99f9",
   "metadata": {},
   "source": [
    "#### Задача\n",
    "\n",
    "**Создам базу данных user_actions в которой сгенирую действия покупателей в интернет магазине,данные будут логически верные, но не подойдут для выявления паттернов пользователей**\n",
    "\n",
    "**Cтруктура таблицы:**\n",
    "* user_id - id пользователя\n",
    "* product_id - id товара\n",
    "* action - действие, просмотр товара, сохранение в корзину, покупка\n",
    "* time - время совершения события"
   ]
  },
  {
   "cell_type": "code",
   "execution_count": null,
   "id": "af5f05c7",
   "metadata": {},
   "outputs": [],
   "source": [
    "import pandas as pd\n",
    "import numpy as np"
   ]
  },
  {
   "cell_type": "code",
   "execution_count": 23,
   "id": "377fe3a6",
   "metadata": {},
   "outputs": [],
   "source": [
    "all_user_ids = np.arange(1, 1001)\n",
    "all_product_ids = np.arange(1, 101)\n",
    "n = 10000\n",
    "\n",
    "# Сгенерировал масив 1000 пользователей и  100 товаров\n",
    "# n - к-во строк"
   ]
  },
  {
   "cell_type": "code",
   "execution_count": 42,
   "id": "bdb252bc",
   "metadata": {},
   "outputs": [],
   "source": [
    "user_ids    = np.random.choice(all_user_ids, n)\n",
    "product_ids = np.random.choice(all_product_ids, n)\n",
    "\n",
    "# с помощью функции random.choice сгенерирова  id и событий связанных с продуктами(с повторениями)\n",
    "\n",
    "start_date = pd.to_datetime('2022-01-01')\n",
    "\n",
    "# сгенерировал временную шкалу, выбрав дату старта\n",
    "\n",
    "times = pd.date_range(start_date, periods=n, freq='1min')\n",
    "\n",
    "# указал интервал времени между событиями"
   ]
  },
  {
   "cell_type": "code",
   "execution_count": 43,
   "id": "c17bfc46",
   "metadata": {},
   "outputs": [],
   "source": [
    "user_actions = pd.DataFrame({'user_id': user_ids, \n",
    "                             'product_id': product_ids, \n",
    "                             'time': times})\n",
    "\n",
    "#создал Dataframe из списка, испульзуя списки словарей в качестве входных данных, имена столбцов в качестве ключей."
   ]
  },
  {
   "cell_type": "code",
   "execution_count": 44,
   "id": "c37a4751",
   "metadata": {},
   "outputs": [],
   "source": [
    "user_actions['action'] = 'view'\n",
    "# добавил колонку action "
   ]
  },
  {
   "cell_type": "code",
   "execution_count": 45,
   "id": "eaa7bd4d",
   "metadata": {},
   "outputs": [
    {
     "data": {
      "text/html": [
       "<div>\n",
       "<style scoped>\n",
       "    .dataframe tbody tr th:only-of-type {\n",
       "        vertical-align: middle;\n",
       "    }\n",
       "\n",
       "    .dataframe tbody tr th {\n",
       "        vertical-align: top;\n",
       "    }\n",
       "\n",
       "    .dataframe thead th {\n",
       "        text-align: right;\n",
       "    }\n",
       "</style>\n",
       "<table border=\"1\" class=\"dataframe\">\n",
       "  <thead>\n",
       "    <tr style=\"text-align: right;\">\n",
       "      <th></th>\n",
       "      <th>user_id</th>\n",
       "      <th>product_id</th>\n",
       "      <th>time</th>\n",
       "      <th>action</th>\n",
       "    </tr>\n",
       "  </thead>\n",
       "  <tbody>\n",
       "    <tr>\n",
       "      <th>0</th>\n",
       "      <td>257</td>\n",
       "      <td>23</td>\n",
       "      <td>2022-01-01 00:00:00</td>\n",
       "      <td>view</td>\n",
       "    </tr>\n",
       "    <tr>\n",
       "      <th>1</th>\n",
       "      <td>529</td>\n",
       "      <td>26</td>\n",
       "      <td>2022-01-01 00:01:00</td>\n",
       "      <td>view</td>\n",
       "    </tr>\n",
       "    <tr>\n",
       "      <th>2</th>\n",
       "      <td>752</td>\n",
       "      <td>27</td>\n",
       "      <td>2022-01-01 00:02:00</td>\n",
       "      <td>view</td>\n",
       "    </tr>\n",
       "    <tr>\n",
       "      <th>3</th>\n",
       "      <td>773</td>\n",
       "      <td>48</td>\n",
       "      <td>2022-01-01 00:03:00</td>\n",
       "      <td>view</td>\n",
       "    </tr>\n",
       "    <tr>\n",
       "      <th>4</th>\n",
       "      <td>317</td>\n",
       "      <td>15</td>\n",
       "      <td>2022-01-01 00:04:00</td>\n",
       "      <td>view</td>\n",
       "    </tr>\n",
       "  </tbody>\n",
       "</table>\n",
       "</div>"
      ],
      "text/plain": [
       "   user_id  product_id                time action\n",
       "0      257          23 2022-01-01 00:00:00   view\n",
       "1      529          26 2022-01-01 00:01:00   view\n",
       "2      752          27 2022-01-01 00:02:00   view\n",
       "3      773          48 2022-01-01 00:03:00   view\n",
       "4      317          15 2022-01-01 00:04:00   view"
      ]
     },
     "execution_count": 45,
     "metadata": {},
     "output_type": "execute_result"
    }
   ],
   "source": [
    "user_actions.head()"
   ]
  },
  {
   "cell_type": "code",
   "execution_count": 46,
   "id": "6d69fbd4",
   "metadata": {},
   "outputs": [],
   "source": [
    "def generate_funel_actions(user_id, product_id, time):\n",
    "    to_cart = 0.2\n",
    "    to_purchase = 0.4\n",
    "    \n",
    "    df = pd.DataFrame()\n",
    "    \n",
    "    if np.random.binomial(1, to_cart, 1)[0]:\n",
    "        df = pd.DataFrame({\n",
    "                           'user_id'   : user_id, \n",
    "                           'product_id': product_id, \n",
    "                           'time'      : time + pd.Timedelta(5, unit='s'), \n",
    "                           'action'    : 'add to cart'}, index=[0])\n",
    "        \n",
    "        if np.random.binomial(1, to_purchase, 1)[0]:\n",
    "            df_purchase = pd.DataFrame({\n",
    "                           'user_id'   : user_id, \n",
    "                           'product_id': product_id, \n",
    "                           'time'      : time + pd.Timedelta(10, unit='s'), \n",
    "                           'action'    : 'purchase'}, index=[0])\n",
    "    \n",
    "            df = df.append(df_purchase)\n",
    "    return df\n",
    "\n",
    "# функция реализует алгоритм подбрасывания монетки \n",
    "# с вероятностью 0.2 пользователь помещает товар в корзину, после просмотра\n",
    "# с вероятностью 0.4 пользователь совершает покупку товаров которые он поместил в корзину\n",
    "# по условию биномиального распределения, функция создает запись о добавлении товара в корзину и запись времени этого события с интервалом на 5 секунд относительно просмотра\n",
    "# генерирую еще одно дейстивие, пользователь совершает покупку товара из козины с вероятностью 0.4 и создается запись действия с временным интервалом в 10 секунд\n",
    "# функция возвращается в начало df"
   ]
  },
  {
   "cell_type": "code",
   "execution_count": 47,
   "id": "8870b0f8",
   "metadata": {},
   "outputs": [],
   "source": [
    "to_cart_df = pd.DataFrame()"
   ]
  },
  {
   "cell_type": "code",
   "execution_count": 48,
   "id": "53e854e7",
   "metadata": {},
   "outputs": [],
   "source": [
    "for i, row in user_actions.iterrows():\n",
    "    user_df = generate_funel_actions(row['user_id'], row['product_id'], row['time'])\n",
    "    to_cart_df = to_cart_df.append(user_df)\n",
    "#  concat() подходит для обьединения df \n",
    "# row - это структура Series, каждый элемент может быть получен по имени столбца или индексу столбца"
   ]
  },
  {
   "cell_type": "code",
   "execution_count": 49,
   "id": "6fba22d5",
   "metadata": {},
   "outputs": [],
   "source": [
    "user_actions = user_actions.append(to_cart_df)\n",
    "user_actions = user_actions.sort_values('time')"
   ]
  },
  {
   "cell_type": "code",
   "execution_count": 50,
   "id": "269b63f8",
   "metadata": {},
   "outputs": [],
   "source": [
    "user_actions['date'] = user_actions.time.dt.date"
   ]
  },
  {
   "cell_type": "code",
   "execution_count": 51,
   "id": "49e9fc6b",
   "metadata": {},
   "outputs": [
    {
     "data": {
      "text/html": [
       "<div>\n",
       "<style scoped>\n",
       "    .dataframe tbody tr th:only-of-type {\n",
       "        vertical-align: middle;\n",
       "    }\n",
       "\n",
       "    .dataframe tbody tr th {\n",
       "        vertical-align: top;\n",
       "    }\n",
       "\n",
       "    .dataframe thead th {\n",
       "        text-align: right;\n",
       "    }\n",
       "</style>\n",
       "<table border=\"1\" class=\"dataframe\">\n",
       "  <thead>\n",
       "    <tr style=\"text-align: right;\">\n",
       "      <th></th>\n",
       "      <th>user_id</th>\n",
       "      <th>product_id</th>\n",
       "      <th>time</th>\n",
       "      <th>action</th>\n",
       "      <th>date</th>\n",
       "    </tr>\n",
       "  </thead>\n",
       "  <tbody>\n",
       "    <tr>\n",
       "      <th>0</th>\n",
       "      <td>257</td>\n",
       "      <td>23</td>\n",
       "      <td>2022-01-01 00:00:00</td>\n",
       "      <td>view</td>\n",
       "      <td>2022-01-01</td>\n",
       "    </tr>\n",
       "    <tr>\n",
       "      <th>1</th>\n",
       "      <td>529</td>\n",
       "      <td>26</td>\n",
       "      <td>2022-01-01 00:01:00</td>\n",
       "      <td>view</td>\n",
       "      <td>2022-01-01</td>\n",
       "    </tr>\n",
       "    <tr>\n",
       "      <th>2</th>\n",
       "      <td>752</td>\n",
       "      <td>27</td>\n",
       "      <td>2022-01-01 00:02:00</td>\n",
       "      <td>view</td>\n",
       "      <td>2022-01-01</td>\n",
       "    </tr>\n",
       "    <tr>\n",
       "      <th>0</th>\n",
       "      <td>752</td>\n",
       "      <td>27</td>\n",
       "      <td>2022-01-01 00:02:05</td>\n",
       "      <td>add to cart</td>\n",
       "      <td>2022-01-01</td>\n",
       "    </tr>\n",
       "    <tr>\n",
       "      <th>0</th>\n",
       "      <td>752</td>\n",
       "      <td>27</td>\n",
       "      <td>2022-01-01 00:02:10</td>\n",
       "      <td>purchase</td>\n",
       "      <td>2022-01-01</td>\n",
       "    </tr>\n",
       "  </tbody>\n",
       "</table>\n",
       "</div>"
      ],
      "text/plain": [
       "   user_id  product_id                time       action        date\n",
       "0      257          23 2022-01-01 00:00:00         view  2022-01-01\n",
       "1      529          26 2022-01-01 00:01:00         view  2022-01-01\n",
       "2      752          27 2022-01-01 00:02:00         view  2022-01-01\n",
       "0      752          27 2022-01-01 00:02:05  add to cart  2022-01-01\n",
       "0      752          27 2022-01-01 00:02:10     purchase  2022-01-01"
      ]
     },
     "execution_count": 51,
     "metadata": {},
     "output_type": "execute_result"
    }
   ],
   "source": [
    "user_actions.head()"
   ]
  },
  {
   "cell_type": "markdown",
   "id": "a1e9d742",
   "metadata": {},
   "source": [
    "##### Источники информации, применяемые в процессе решения\n",
    "\n",
    "* https://pythobyte.com/\n",
    "* https://pandas.pydata.org/\n",
    "* https://question-it.com/\n",
    "* https://www.cyberforum.ru/python-tasks/thread2883132.html\n",
    "* https://www.dmitrymakarov.ru/python/random-11/\n",
    "* https://all-python.ru/osnovy/funktsii.html\n",
    "* https://pythonru.com/biblioteki/vozmozhnosti-obektov-index-v-pandas-pd-3\n",
    "* https://www.stackfinder.ru/questions/27644617/difference-between-n-and-size-parameters-in-np-random-binomialn-p-size-1000\n",
    "* https://russianblogs.com/\n",
    "* https://all-python.ru/osnovy/funktsii.html\n",
    "* https://www.cyberforum.ru/python-tasks/"
   ]
  }
 ],
 "metadata": {
  "kernelspec": {
   "display_name": "Python 3 (ipykernel)",
   "language": "python",
   "name": "python3"
  },
  "language_info": {
   "codemirror_mode": {
    "name": "ipython",
    "version": 3
   },
   "file_extension": ".py",
   "mimetype": "text/x-python",
   "name": "python",
   "nbconvert_exporter": "python",
   "pygments_lexer": "ipython3",
   "version": "3.9.7"
  }
 },
 "nbformat": 4,
 "nbformat_minor": 5
}
