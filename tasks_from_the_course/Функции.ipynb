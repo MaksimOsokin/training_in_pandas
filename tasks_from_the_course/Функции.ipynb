{
 "cells": [
  {
   "cell_type": "code",
   "execution_count": 1,
   "id": "c18eed6a",
   "metadata": {},
   "outputs": [
    {
     "name": "stdout",
     "output_type": "stream",
     "text": [
      "omv.87@ru\n"
     ]
    }
   ],
   "source": [
    "comment = 'студент omv.87@ru готов выйти на работу'\n",
    "\n",
    "list_comment = comment.split(' ')\n",
    "\n",
    "for i in list_comment:\n",
    "    if i.find('@')>0:\n",
    "        mail=i\n",
    "        \n",
    "print(mail)"
   ]
  },
  {
   "cell_type": "code",
   "execution_count": 4,
   "id": "e507cc74",
   "metadata": {},
   "outputs": [],
   "source": [
    "# Теперь напишу фунукцию которая будет извлекать почты из строки:\n",
    "\n",
    "def email_fun(string):\n",
    "    list_word = string.split(' ')\n",
    "    for y in list_word:\n",
    "        if y.find('@')>0:\n",
    "            return y\n",
    "    return 'Емайлы не обнаружены'"
   ]
  },
  {
   "cell_type": "code",
   "execution_count": 5,
   "id": "e55bdc66",
   "metadata": {},
   "outputs": [
    {
     "data": {
      "text/plain": [
       "'omv.87@ru'"
      ]
     },
     "execution_count": 5,
     "metadata": {},
     "output_type": "execute_result"
    }
   ],
   "source": [
    "email_fun(comment)"
   ]
  },
  {
   "cell_type": "code",
   "execution_count": 14,
   "id": "129016dc",
   "metadata": {},
   "outputs": [
    {
     "name": "stdout",
     "output_type": "stream",
     "text": [
      "79050527999\n"
     ]
    }
   ],
   "source": [
    "# Напишу цикл очищающий строку от всех символов кроме цифр\n",
    "phone = '+7(905)052-79 99'\n",
    "\n",
    "clear_phone = ''\n",
    "for i in str(phone):\n",
    "    if i in '1234567890':\n",
    "        clear_phone += i\n",
    "        \n",
    "phone = clear_phone\n",
    "print(phone)"
   ]
  },
  {
   "cell_type": "code",
   "execution_count": 22,
   "id": "448ae7f2",
   "metadata": {},
   "outputs": [],
   "source": [
    "# теперь создам функцию phone_cleaner\n",
    "phone = '+7(905)052-79 99'\n",
    "\n",
    "def phone_cleaner(phone_cl):\n",
    "    cleaer_result=''\n",
    "    for i in str(phone_cl):\n",
    "        if i in '0987654321':\n",
    "            cleaer_result += i\n",
    "    return cleaer_result"
   ]
  },
  {
   "cell_type": "code",
   "execution_count": 23,
   "id": "78c39bcb",
   "metadata": {},
   "outputs": [
    {
     "data": {
      "text/plain": [
       "'79050527999'"
      ]
     },
     "execution_count": 23,
     "metadata": {},
     "output_type": "execute_result"
    }
   ],
   "source": [
    "phone_cleaner(phone)"
   ]
  },
  {
   "cell_type": "code",
   "execution_count": 28,
   "id": "fdd0b038",
   "metadata": {},
   "outputs": [],
   "source": [
    "# создам функцию сравнения, мы можем сранить все элементы переменной с заданным значением \n",
    "#и выбрать только соответсвующие заданному условию\n",
    "\n",
    "def list_checker (lst, threshold):\n",
    "    new_list = []\n",
    "    for i in lst:\n",
    "        if i >= threshold:\n",
    "            new_list.append(i)\n",
    "    return new_list"
   ]
  },
  {
   "cell_type": "code",
   "execution_count": 29,
   "id": "de0ba0bf",
   "metadata": {},
   "outputs": [],
   "source": [
    "hom_list = [1, 45, 145, 554, 789, 987.9, 100.5]"
   ]
  },
  {
   "cell_type": "code",
   "execution_count": 30,
   "id": "945e9266",
   "metadata": {},
   "outputs": [
    {
     "data": {
      "text/plain": [
       "[145, 554, 789, 987.9, 100.5]"
      ]
     },
     "execution_count": 30,
     "metadata": {},
     "output_type": "execute_result"
    }
   ],
   "source": [
    "list_checker(hom_list, 100.5)"
   ]
  },
  {
   "cell_type": "code",
   "execution_count": null,
   "id": "5e5d71a5",
   "metadata": {},
   "outputs": [],
   "source": [
    "# именнованные элементы - помогают обращатся к функции с присваеением "
   ]
  }
 ],
 "metadata": {
  "kernelspec": {
   "display_name": "Python 3 (ipykernel)",
   "language": "python",
   "name": "python3"
  },
  "language_info": {
   "codemirror_mode": {
    "name": "ipython",
    "version": 3
   },
   "file_extension": ".py",
   "mimetype": "text/x-python",
   "name": "python",
   "nbconvert_exporter": "python",
   "pygments_lexer": "ipython3",
   "version": "3.9.7"
  }
 },
 "nbformat": 4,
 "nbformat_minor": 5
}
