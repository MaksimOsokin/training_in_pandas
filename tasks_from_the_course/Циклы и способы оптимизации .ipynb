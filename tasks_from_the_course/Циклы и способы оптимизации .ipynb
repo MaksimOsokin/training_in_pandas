{
 "cells": [
  {
   "cell_type": "raw",
   "id": "163a7b27",
   "metadata": {},
   "source": [
    "Циклы — неотъемлемая часть программирования на Python, поскольку они позволяют выполнять повторяющиеся задачи. \n",
    "\n",
    "Однако иногда использование циклов может замедлить ваш код и сделать его менее эффективным. \n",
    "\n",
    "В этой заметке показаны приемы, которые можно использовать для устранения циклов из кода Python и повышения производительности.\n",
    "\n",
    "🌵 List comprehension\n",
    "🌵 Функция map\n",
    "🌵 Функция filter\n",
    "🌵 Срезы List slicing\n",
    "🌵 Vectorization\n",
    "🌵 Recursion Рекурсия "
   ]
  },
  {
   "cell_type": "raw",
   "id": "1279ac6a",
   "metadata": {},
   "source": [
    "List comprehension - Списковое включение\n",
    "\n",
    "Абстракция списков или списковое включение в синтаксисе некоторых языков программирования — это способ компактного \n",
    "описания операций обработки списков.\n",
    "Списковое включение позволяет вычислять и бесконечные списки."
   ]
  },
  {
   "cell_type": "code",
   "execution_count": 3,
   "id": "e73bd3ff",
   "metadata": {},
   "outputs": [
    {
     "name": "stdout",
     "output_type": "stream",
     "text": [
      "[1, 4, 9, 16]\n"
     ]
    }
   ],
   "source": [
    "# Creatinng a list of sqares using list comprehensio\n",
    "\n",
    "sqares = [i**2 for i in range(1, 5)]\n",
    "print(sqares)"
   ]
  },
  {
   "cell_type": "raw",
   "id": "2bb73ad2",
   "metadata": {},
   "source": [
    "Функция map\n",
    "\n",
    "Вместо использования цикла for функция map() дает возможность применить функцию к каждому элементу итерируемого объекта. \n",
    "Это повышает производительность, поскольку функция применяется только к одному элементу за раз без создания копий элементов\n",
    "в другом итерируемом объекте. Это особенно полезно при обработке больших наборов данных.\n",
    "Также map() может принимать несколько итерируемых объектов в качестве аргументов функции,\n",
    "отправляя в функцию по одному элементу каждого итерируемого объекта за раз."
   ]
  },
  {
   "cell_type": "code",
   "execution_count": 7,
   "id": "0f52ba06",
   "metadata": {},
   "outputs": [
    {
     "name": "stdout",
     "output_type": "stream",
     "text": [
      "[1, 4, 9, 16, 25]\n"
     ]
    }
   ],
   "source": [
    "# Using map function to create a list of squares\n",
    "\n",
    "numbers = [1, 2, 3, 4, 5]\n",
    "squares = list(map(lambda x: x**2, numbers))\n",
    "print(squares)"
   ]
  },
  {
   "cell_type": "raw",
   "id": "ebd95edc",
   "metadata": {},
   "source": [
    "Функция filter \n",
    "\n",
    "Функция filter() в Python применяет другую функцию к заданному итерируемому объекту (список, строка, словарь и так далее),\n",
    "проверяя, нужно ли сохранить конкретный элемент или нет. \n",
    "Простыми словами, она отфильтровывает то, что не проходит и возвращает все остальное."
   ]
  },
  {
   "cell_type": "code",
   "execution_count": 9,
   "id": "866ec22f",
   "metadata": {},
   "outputs": [
    {
     "name": "stdout",
     "output_type": "stream",
     "text": [
      "[2, 4]\n"
     ]
    }
   ],
   "source": [
    "#  Using filter function to filter out even numbers\n",
    "numbers = [1, 2, 3, 4, 5]\n",
    "even_numbers = list(filter(lambda x: x % 2 == 0, numbers))\n",
    "print(even_numbers)"
   ]
  },
  {
   "cell_type": "raw",
   "id": "920b80bb",
   "metadata": {},
   "source": [
    "# Синтаксис filter()\n",
    "\n",
    "filter(in_function|None, iterable)\n",
    "|__filter object"
   ]
  },
  {
   "cell_type": "code",
   "execution_count": 10,
   "id": "03a3033c",
   "metadata": {},
   "outputs": [
    {
     "name": "stdout",
     "output_type": "stream",
     "text": [
      "Тип объекта out_filter:  <class 'filter'>\n",
      "Отфильтрованный список:  [2, 4, 8, 10]\n"
     ]
    }
   ],
   "source": [
    "\"\"\"\n",
    "    Программа Python для фильтрации нечетных чисел\n",
    "    в списке, используя функцию filter()\n",
    "\"\"\"\n",
    "\n",
    "# список чисел\n",
    "numbers = [1, 2, 4, 5, 7, 8, 10, 11]\n",
    "\n",
    "# функция, которая проверяет числа\n",
    "def filter_odd_num(in_num):\n",
    "    if(in_num % 2) == 0:\n",
    "        return True\n",
    "    else:\n",
    "        return False\n",
    "\n",
    "# Применение filter() для удаления нечетных чисел\n",
    "out_filter = filter(filter_odd_num, numbers)\n",
    "\n",
    "print(\"Тип объекта out_filter: \", type(out_filter))\n",
    "print(\"Отфильтрованный список: \", list(out_filter))"
   ]
  },
  {
   "cell_type": "code",
   "execution_count": 11,
   "id": "4fd5c41d",
   "metadata": {},
   "outputs": [
    {
     "name": "stdout",
     "output_type": "stream",
     "text": [
      "Отфильтрованный список: ['Java', 'Scala', 'JavaScript', 'PHP']\n"
     ]
    }
   ],
   "source": [
    "\"\"\"\n",
    "    Программа для поиска совпадений между\n",
    "    двумя списками, используя функцию filter()\n",
    "\"\"\"\n",
    "\n",
    "# Список строк с похожими элементами\n",
    "list1 = [\"Python\", \"CSharp\", \"Java\", \"Go\"]\n",
    "list2 = [\"Python\", \"Scala\", \"JavaScript\", \"Go\", \"PHP\", \"CSharp\"]\n",
    "\n",
    "# функция, которая проверяет строки на вхождение\n",
    "def filter_duplicate(string_to_check):\n",
    "    if string_to_check in ll:\n",
    "        return False\n",
    "    else:\n",
    "        return True\n",
    "\n",
    "# Применение filter() для удаления повторяющихся строк\n",
    "ll = list2\n",
    "out_filter = list(filter(filter_duplicate, list1))\n",
    "ll = list1\n",
    "out_filter += list(filter(filter_duplicate, list2))\n",
    "\n",
    "print(\"Отфильтрованный список:\", out_filter)"
   ]
  },
  {
   "cell_type": "code",
   "execution_count": 22,
   "id": "b183dcb8",
   "metadata": {},
   "outputs": [
    {
     "name": "stdout",
     "output_type": "stream",
     "text": [
      "Отфильтрованная строка:  \n",
      "Сервис поиску работы сотрудников HeadHunter опубликовал подборку высокооплачиваемых вакансий России август.\n"
     ]
    }
   ],
   "source": [
    "\"\"\"\n",
    "    Программа для удаления стоп-слов\n",
    "    из строки используя функцию filter()\n",
    "\"\"\"\n",
    "\n",
    "# Список стоп-слов\n",
    "list_of_stop_words = [\"в\", \"и\", \"по\", \"за\"]\n",
    "\n",
    "# Строка со стоп-словами\n",
    "string_to_process = \"Сервис по поиску работы и сотрудников и HeadHunter в опубликовал подборку высокооплачиваемых вакансий в России за август.\"\n",
    "\n",
    "# lambda-функция, фильтрующая стоп-слова\n",
    "split_str = string_to_process.split()\n",
    "filtered_str = ' '.join((filter(lambda s: s not in list_of_stop_words, split_str)))\n",
    "\n",
    "print(\"Отфильтрованная строка:  \", filtered_str, sep='\\n')"
   ]
  },
  {
   "cell_type": "raw",
   "id": "3828c827",
   "metadata": {},
   "source": [
    "Срезы List slicing\n",
    "\n",
    "Функция slice() возвращает объект среза, который можно использовать для строк, списков, кортежей и т. д.\n",
    "Используется для срезания заданной последовательности (строки, байтов, кортежа, списка или диапазона) или любого объекта, \n",
    "который поддерживает протокол последовательности (реализует метод __getitem __() и __len __())."
   ]
  },
  {
   "cell_type": "raw",
   "id": "07c086db",
   "metadata": {},
   "source": [
    "Синтаксис: slice(start, stop, step)"
   ]
  },
  {
   "cell_type": "code",
   "execution_count": 25,
   "id": "5cd99a0d",
   "metadata": {},
   "outputs": [
    {
     "name": "stdout",
     "output_type": "stream",
     "text": [
      "slice(None, 3, None)\n"
     ]
    }
   ],
   "source": [
    "# contains indices (0, 1, 2) \n",
    "result1 = slice(3) \n",
    "print(result1) \n"
   ]
  },
  {
   "cell_type": "code",
   "execution_count": 26,
   "id": "ec851ed6",
   "metadata": {},
   "outputs": [
    {
     "name": "stdout",
     "output_type": "stream",
     "text": [
      "slice(1, 5, 2)\n"
     ]
    }
   ],
   "source": [
    "# contains indices (1, 3) \n",
    "result2 = slice(1, 5, 2) \n",
    "\n",
    "print(slice(1, 5, 2))"
   ]
  },
  {
   "cell_type": "code",
   "execution_count": 31,
   "id": "04fb39a2",
   "metadata": {},
   "outputs": [
    {
     "name": "stdout",
     "output_type": "stream",
     "text": [
      "Pyt\n"
     ]
    }
   ],
   "source": [
    "# Program to get a substring from the given string \n",
    "\n",
    "py_string = 'Python' \n",
    "\n",
    "# stop = 3\n",
    "# contains 0, 1 and 2 indices \n",
    "\n",
    "slice_object = slice(3) \n",
    "print(py_string[slice_object]) # Pyt "
   ]
  },
  {
   "cell_type": "code",
   "execution_count": 82,
   "id": "a3cf7ed3",
   "metadata": {},
   "outputs": [
    {
     "name": "stdout",
     "output_type": "stream",
     "text": [
      "Pto1.\n"
     ]
    }
   ],
   "source": [
    "# start = 1, stop = 6, step = 2\n",
    "# contains 1, 3 and 5 indices \n",
    "\n",
    "py_string = 'Python10.1' \n",
    "slice_object = slice(0, 12, 2) \n",
    "\n",
    "print(py_string[slice_object]) # yhn"
   ]
  },
  {
   "cell_type": "raw",
   "id": "b73badcd",
   "metadata": {},
   "source": [
    "Пример 3: \n",
    "Получить подстроки с использованием отрицательного индекса"
   ]
  },
  {
   "cell_type": "code",
   "execution_count": 83,
   "id": "10d20d30",
   "metadata": {},
   "outputs": [
    {
     "name": "stdout",
     "output_type": "stream",
     "text": [
      "noh\n"
     ]
    }
   ],
   "source": [
    "py_string = 'Python' \n",
    "# start = -1, stop = -4, step = -1 \n",
    "# contains indices -1, -2 and -3 \n",
    "\n",
    "slice_object = slice(-1, -4, -1) \n",
    "\n",
    "print(py_string[slice_object]) # noh\n"
   ]
  },
  {
   "cell_type": "raw",
   "id": "2dd9136b",
   "metadata": {},
   "source": [
    "Пример 4: \n",
    "Получить подсписок и подкортеж"
   ]
  },
  {
   "cell_type": "code",
   "execution_count": 109,
   "id": "0752fe70",
   "metadata": {},
   "outputs": [
    {
     "name": "stdout",
     "output_type": "stream",
     "text": [
      "['P', 'y', 't']\n"
     ]
    }
   ],
   "source": [
    "py_list = ['P', 'y', 't', 'h', 'o', 'n'] \n",
    "py_tuple = ('P', 'y', 't', 'h', 'o', 'n') \n",
    "\n",
    "# contains indices 0, 1 and 2 \n",
    "slice_object = slice(3) \n",
    "\n",
    "print(py_list[slice_object]) # ['P', 'y', 't']"
   ]
  },
  {
   "cell_type": "code",
   "execution_count": 110,
   "id": "077d3890",
   "metadata": {},
   "outputs": [
    {
     "name": "stdout",
     "output_type": "stream",
     "text": [
      "('y', 'h')\n"
     ]
    }
   ],
   "source": [
    "# contains indices 1 and 3 \n",
    "\n",
    "slice_object = slice(1, 5, 2) \n",
    "\n",
    "print(py_tuple[slice_object]) # ('y', 'h')"
   ]
  },
  {
   "cell_type": "raw",
   "id": "f329048d",
   "metadata": {},
   "source": [
    "Пример 5: \n",
    "Получить подсписок и подкортеж с отрицательным индексом"
   ]
  },
  {
   "cell_type": "code",
   "execution_count": 87,
   "id": "5609bccc",
   "metadata": {},
   "outputs": [
    {
     "name": "stdout",
     "output_type": "stream",
     "text": [
      "['P', 'y', 't']\n"
     ]
    }
   ],
   "source": [
    "py_list = ['P', 'y', 't', 'h', 'o', 'n'] \n",
    "py_tuple = ('P', 'y', 't', 'h', 'o', 'n')\n",
    "# contains indices 0, 1 and 2 \n",
    "slice_object = slice(3) \n",
    "\n",
    "print(py_list[slice_object]) # ['P', 'y', 't']"
   ]
  },
  {
   "cell_type": "code",
   "execution_count": 105,
   "id": "7db34ef5",
   "metadata": {},
   "outputs": [
    {
     "data": {
      "text/plain": [
       "('n', 'o', 'h')"
      ]
     },
     "execution_count": 105,
     "metadata": {},
     "output_type": "execute_result"
    }
   ],
   "source": [
    "py_tuple[slice(-1,2,-1)]"
   ]
  },
  {
   "cell_type": "code",
   "execution_count": 108,
   "id": "d48fbf0b",
   "metadata": {},
   "outputs": [
    {
     "data": {
      "text/plain": [
       "['P', 'y']"
      ]
     },
     "execution_count": 108,
     "metadata": {},
     "output_type": "execute_result"
    }
   ],
   "source": [
    "py_list[slice(2)]"
   ]
  },
  {
   "cell_type": "code",
   "execution_count": 106,
   "id": "9a96d74a",
   "metadata": {},
   "outputs": [
    {
     "name": "stdout",
     "output_type": "stream",
     "text": [
      "('y', 'h')\n"
     ]
    }
   ],
   "source": [
    "# contains indices 1 and 3 \n",
    "\n",
    "slice_object = slice(1, 5, 2) \n",
    "\n",
    "print(py_tuple[slice_object]) # ('y', 'h')"
   ]
  },
  {
   "cell_type": "raw",
   "id": "a81736d7",
   "metadata": {},
   "source": [
    "Пример 6: \n",
    "Использование синтаксиса индексирования для нарезки"
   ]
  },
  {
   "cell_type": "raw",
   "id": "4b8363ec",
   "metadata": {},
   "source": [
    "Можно использовать следующий синтаксис для нарезки:\n",
    "    \n",
    "obj[start:stop:step]"
   ]
  },
  {
   "cell_type": "code",
   "execution_count": 117,
   "id": "43d1acad",
   "metadata": {},
   "outputs": [
    {
     "name": "stdout",
     "output_type": "stream",
     "text": [
      "Pyt\n",
      "Pto\n"
     ]
    }
   ],
   "source": [
    "py_string = 'Python'\n",
    "\n",
    "# contains indices 0, 1 and 2\n",
    "print(py_string[0:3]) \n",
    "\n",
    "# Pyt # contains indices 1 and 3 \n",
    "\n",
    "print(py_string[0:5:2]) # yh"
   ]
  },
  {
   "cell_type": "raw",
   "id": "cc11f671",
   "metadata": {},
   "source": [
    "🌵 Vectorization\n",
    "\n",
    "Векторизация NumPy ускоряет операции с объёмными данными за счёт быстрого низкоуровневого кода.\n",
    "На основе NumPy, чтобы предоставить столь же быструю функциональность, написана и Pandas. \n",
    "Но векторизация — не панацея. Иногда проблема решается за счёт памяти,\n",
    "нужная операция не поддерживается или просто не нужна.\n",
    "У каждой из этих проблем есть разные решения.\n",
    "\n",
    "https://www.codecamp.ru/blog/python-recursion/"
   ]
  },
  {
   "cell_type": "code",
   "execution_count": 119,
   "id": "9448ba7a",
   "metadata": {},
   "outputs": [
    {
     "name": "stdout",
     "output_type": "stream",
     "text": [
      "[ 5 12 21 32]\n"
     ]
    }
   ],
   "source": [
    "import numpy as np\n",
    "\n",
    "a = np.array([1, 2, 3, 4])\n",
    "b = np.array([5, 6, 7, 8])\n",
    "\n",
    "c = a * b\n",
    "\n",
    "print(c)"
   ]
  },
  {
   "cell_type": "raw",
   "id": "bb58a84a",
   "metadata": {},
   "source": [
    "🌵 Recursion Рекурсия \n",
    "\n",
    "Это возможность дать определение функции, используя в процессе саму определяемую функцию."
   ]
  },
  {
   "cell_type": "code",
   "execution_count": 122,
   "id": "3907ef8b",
   "metadata": {},
   "outputs": [
    {
     "name": "stdout",
     "output_type": "stream",
     "text": [
      "15\n"
     ]
    }
   ],
   "source": [
    "# Using recursion to find the sum of elements in a list \n",
    "\n",
    "def sum_list(lst):\n",
    "    if len(lst) == 0:\n",
    "        return 0\n",
    "    else:\n",
    "        return lst[0] + sum_list(lst[1:])\n",
    "    \n",
    "numbers = [1, 2, 3, 4, 5]\n",
    "total = sum_list(numbers)\n",
    "\n",
    "print(total)"
   ]
  },
  {
   "cell_type": "raw",
   "id": "e8aca134",
   "metadata": {},
   "source": [
    "Сумма чисел от 1 до n"
   ]
  },
  {
   "cell_type": "code",
   "execution_count": 123,
   "id": "43d0de47",
   "metadata": {},
   "outputs": [],
   "source": [
    "# можно просто написать цикл for\n",
    "\n",
    "n = 0\n",
    "for i in range (1, n+1):\n",
    "    n += i"
   ]
  },
  {
   "cell_type": "code",
   "execution_count": 124,
   "id": "927f7dae",
   "metadata": {},
   "outputs": [],
   "source": [
    "# Или использовать рекурсию\n",
    "\n",
    "def recursion(n):\n",
    "    if n == 1:\n",
    "        return 1\n",
    "    return n + recursion(n - 1)"
   ]
  },
  {
   "cell_type": "raw",
   "id": "a64b70ad",
   "metadata": {},
   "source": [
    "У рекурсии есть несколько преимуществ в сравнении с первыми двумя методами. \n",
    "Рекурсия занимает меньше времени, чем выписывание 1 + 2 + 3 на сумму от 1 до 3"
   ]
  },
  {
   "cell_type": "code",
   "execution_count": null,
   "id": "c2d30888",
   "metadata": {},
   "outputs": [],
   "source": []
  },
  {
   "cell_type": "code",
   "execution_count": null,
   "id": "207f773e",
   "metadata": {},
   "outputs": [],
   "source": []
  },
  {
   "cell_type": "code",
   "execution_count": null,
   "id": "13e5d754",
   "metadata": {},
   "outputs": [],
   "source": []
  }
 ],
 "metadata": {
  "kernelspec": {
   "display_name": "Python 3 (ipykernel)",
   "language": "python",
   "name": "python3"
  },
  "language_info": {
   "codemirror_mode": {
    "name": "ipython",
    "version": 3
   },
   "file_extension": ".py",
   "mimetype": "text/x-python",
   "name": "python",
   "nbconvert_exporter": "python",
   "pygments_lexer": "ipython3",
   "version": "3.9.16"
  }
 },
 "nbformat": 4,
 "nbformat_minor": 5
}
