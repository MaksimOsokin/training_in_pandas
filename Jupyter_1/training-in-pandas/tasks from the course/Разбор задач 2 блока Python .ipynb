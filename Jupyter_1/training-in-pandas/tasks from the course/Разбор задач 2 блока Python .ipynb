{
 "cells": [
  {
   "cell_type": "markdown",
   "id": "282310bb",
   "metadata": {},
   "source": [
    "Теперь поработаем с данными о поездках на такси в Нью-Йорке, где также имеется информация о погодных условиях и выходных днях.\n",
    "\n",
    "\n",
    "* pickup_dt — период с точностью до часа\n",
    "* pickup_month — месяц\n",
    "* borough — район Нью-Йорка, из которого был сделан заказ (5 районов + аэропорт)\n",
    "* pickups — число поездок за период (час)\n",
    "* hday – является ли день праздничным/выходным; Y — да,  N — нет\n",
    "* spd – скорость ветра в милях в час\n",
    "* vsb – видимость\n",
    "* temp – температура в градусах Фаренгейта\n",
    "* dewp – точка росы по Фаренгейту\n",
    "* slp – давление\n",
    "* pcp_01 – количество осадков за час\n",
    "* pcp_06 – количество осадков за 6 часов\n",
    "* pcp_24 – количество осадков за 24 часа\n",
    "* sd – глубина снега в дюймах\n",
    "\n",
    "\n",
    "Импортирую библиотеку pandas, а затем загружу датасет 2_taxi_nyc. \n",
    "Результат сохраню в переменную taxi"
   ]
  },
  {
   "cell_type": "code",
   "execution_count": 1,
   "id": "9a8cd761",
   "metadata": {},
   "outputs": [],
   "source": [
    "import pandas as pd"
   ]
  },
  {
   "cell_type": "code",
   "execution_count": null,
   "id": "5d42afe6",
   "metadata": {},
   "outputs": [],
   "source": []
  }
 ],
 "metadata": {
  "kernelspec": {
   "display_name": "Python 3 (ipykernel)",
   "language": "python",
   "name": "python3"
  },
  "language_info": {
   "codemirror_mode": {
    "name": "ipython",
    "version": 3
   },
   "file_extension": ".py",
   "mimetype": "text/x-python",
   "name": "python",
   "nbconvert_exporter": "python",
   "pygments_lexer": "ipython3",
   "version": "3.9.7"
  }
 },
 "nbformat": 4,
 "nbformat_minor": 5
}
