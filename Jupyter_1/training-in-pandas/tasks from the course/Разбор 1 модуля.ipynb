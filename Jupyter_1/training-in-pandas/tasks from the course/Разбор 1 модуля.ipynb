{
 "cells": [
  {
   "cell_type": "markdown",
   "id": "788d7981",
   "metadata": {},
   "source": [
    "Начнём с простого - сохраните в переменную age произвольный возраст, выраженный целым числом, а в переменную name какое-нибудь имя в виде строки"
   ]
  },
  {
   "cell_type": "code",
   "execution_count": 1,
   "id": "d8bdd9a8",
   "metadata": {},
   "outputs": [],
   "source": [
    "age = 34\n",
    "name = 'Maks'"
   ]
  },
  {
   "cell_type": "markdown",
   "id": "9e39be8c",
   "metadata": {},
   "source": [
    "Создайте список user_info, содержащий 2 строки (имя и фамилия пользователя), 1 дробное число (зарплата) и 1 целое число (стаж)\n",
    "\n",
    "Поместите в переменную first первый (то есть нулевой) элемент из списка salaries"
   ]
  },
  {
   "cell_type": "code",
   "execution_count": 2,
   "id": "850d626d",
   "metadata": {},
   "outputs": [],
   "source": [
    "user_info = ['Vladimir','Shiskanov', 100000.0, 1]"
   ]
  },
  {
   "cell_type": "code",
   "execution_count": 3,
   "id": "7a111a09",
   "metadata": {},
   "outputs": [
    {
     "data": {
      "text/plain": [
       "'Vladimir'"
      ]
     },
     "execution_count": 3,
     "metadata": {},
     "output_type": "execute_result"
    }
   ],
   "source": [
    "user_info[0]"
   ]
  },
  {
   "cell_type": "markdown",
   "id": "f26467ba",
   "metadata": {},
   "source": [
    "Индексирование начинается с 0 , прследний элемент в списке -1"
   ]
  },
  {
   "cell_type": "code",
   "execution_count": 4,
   "id": "5e28993c",
   "metadata": {},
   "outputs": [],
   "source": [
    "salaries = [1, 2, 3, 4, 5]"
   ]
  },
  {
   "cell_type": "code",
   "execution_count": 5,
   "id": "e727abd8",
   "metadata": {},
   "outputs": [],
   "source": [
    "first = salaries [-1]"
   ]
  },
  {
   "cell_type": "code",
   "execution_count": 6,
   "id": "152a5cb5",
   "metadata": {},
   "outputs": [
    {
     "data": {
      "text/plain": [
       "5"
      ]
     },
     "execution_count": 6,
     "metadata": {},
     "output_type": "execute_result"
    }
   ],
   "source": [
    "first"
   ]
  },
  {
   "cell_type": "markdown",
   "id": "4d5c864a",
   "metadata": {},
   "source": [
    "Добавьте в список users элементы 'Voronov' и 42"
   ]
  },
  {
   "cell_type": "code",
   "execution_count": 7,
   "id": "99c52714",
   "metadata": {},
   "outputs": [],
   "source": [
    "users = ['courses', 42, False]"
   ]
  },
  {
   "cell_type": "markdown",
   "id": "3006b788",
   "metadata": {},
   "source": [
    "# append \n",
    "- метод добовляющий элемент в список"
   ]
  },
  {
   "cell_type": "code",
   "execution_count": 8,
   "id": "8b053a65",
   "metadata": {},
   "outputs": [],
   "source": [
    "users.append('Voronov')\n",
    "users.append(42)"
   ]
  },
  {
   "cell_type": "code",
   "execution_count": 9,
   "id": "29a3c79d",
   "metadata": {},
   "outputs": [
    {
     "data": {
      "text/plain": [
       "['courses', 42, False, 'Voronov', 42]"
      ]
     },
     "execution_count": 9,
     "metadata": {},
     "output_type": "execute_result"
    }
   ],
   "source": [
    "users"
   ]
  },
  {
   "cell_type": "markdown",
   "id": "e893761a",
   "metadata": {},
   "source": [
    "В переменной user_ages содержится список возрастов клиентов. Напишите петлю, выводящую на печать возраста, которые больше 18.\n",
    "\n",
    "Пример данных, которые могут быть в user_ages."
   ]
  },
  {
   "cell_type": "code",
   "execution_count": 10,
   "id": "b092b884",
   "metadata": {},
   "outputs": [],
   "source": [
    " user_ages = [34, 10, 20, 24, 18, 45]"
   ]
  },
  {
   "cell_type": "code",
   "execution_count": 11,
   "id": "010572d8",
   "metadata": {},
   "outputs": [
    {
     "name": "stdout",
     "output_type": "stream",
     "text": [
      "34\n",
      "10\n",
      "20\n",
      "24\n",
      "18\n",
      "45\n"
     ]
    }
   ],
   "source": [
    "for i in user_ages:\n",
    "    print(i) # это цикл которторый будет повторятятся и выводить поочереди переменные на печать, каждую на новую строку"
   ]
  },
  {
   "cell_type": "markdown",
   "id": "5a66fa9e",
   "metadata": {},
   "source": [
    "# if - создадает условия "
   ]
  },
  {
   "cell_type": "code",
   "execution_count": 12,
   "id": "3cf12a20",
   "metadata": {},
   "outputs": [
    {
     "name": "stdout",
     "output_type": "stream",
     "text": [
      "yes\n"
     ]
    }
   ],
   "source": [
    "if 10 > 5:\n",
    "    print('yes')"
   ]
  },
  {
   "cell_type": "code",
   "execution_count": 13,
   "id": "506325a4",
   "metadata": {},
   "outputs": [
    {
     "data": {
      "text/plain": [
       "[34, 10, 20, 24, 18, 45]"
      ]
     },
     "execution_count": 13,
     "metadata": {},
     "output_type": "execute_result"
    }
   ],
   "source": [
    "user_ages"
   ]
  },
  {
   "cell_type": "code",
   "execution_count": 14,
   "id": "933869e9",
   "metadata": {},
   "outputs": [
    {
     "name": "stdout",
     "output_type": "stream",
     "text": [
      "34\n",
      "20\n",
      "24\n",
      "45\n"
     ]
    }
   ],
   "source": [
    "for age in user_ages:\n",
    "    if age > 18:\n",
    "        print(age)"
   ]
  },
  {
   "cell_type": "markdown",
   "id": "5be3ee53",
   "metadata": {},
   "source": [
    "Напишите программу, проверяющую стаж работы сотрудника. В переменной worker содержится список, содержащий значения как во 2-ом задании (имя, фамилия, зарплата, стаж). Поместите в переменную status такую строку:\n",
    "\n",
    "user_name user_family is position\n",
    "\n",
    "где user_name и user_family - имя и фамилия сотрудника, а position - одна из следующих строк\n",
    "\n",
    "* 'junior' - стаж меньше 2 лет\n",
    "* 'middle' - стаж больше либо равен 2 лет\n",
    "* 'senior' - стаж больше 5 лет \n",
    "\n",
    "Пример данных, которые могут быть в worker\n",
    "\n",
    "worker = ['Olya', 'Silyutina', 350000, 3]"
   ]
  },
  {
   "cell_type": "code",
   "execution_count": 15,
   "id": "67d097f3",
   "metadata": {},
   "outputs": [],
   "source": [
    "worker = ['Olya', 'Silyutina', 350000.0, 3, \\\n",
    "          'Vladimir', 'Sihskanov', 450000.5, 2, \\\n",
    "          'Oleg', 'Petrov', 300000.0, 1, \\\n",
    "          'Nata', 'Osokina', 550000.5, 5]"
   ]
  },
  {
   "cell_type": "code",
   "execution_count": null,
   "id": "598e2c31",
   "metadata": {},
   "outputs": [],
   "source": []
  },
  {
   "cell_type": "code",
   "execution_count": 16,
   "id": "c0a1aee9",
   "metadata": {},
   "outputs": [],
   "source": [
    "status = '{} {} is {}'\n",
    "experience = worker[-1]\n",
    "\n",
    "if experience < 2:\n",
    "    position = 'junior'\n",
    "elif experience <=5:\n",
    "    position = 'middle'\n",
    "else:\n",
    "    position = 'senior'\n",
    "    \n",
    "status = status.format(worker[0], worker[1], position)"
   ]
  },
  {
   "cell_type": "code",
   "execution_count": null,
   "id": "3beab622",
   "metadata": {},
   "outputs": [],
   "source": []
  },
  {
   "cell_type": "markdown",
   "id": "ff6244fe",
   "metadata": {},
   "source": [
    "# проверка на делимость\n",
    "Создайте список tens и добавьте в него все числа из values, которые делятся на 10 нацело\n",
    "\n",
    "В списке values содержатся числовые значения. \n",
    "Пример данных, которые могут быть в values\n",
    "\n",
    "values = [12, 134, 10, 47, 100, 20, 50, 160, 210]"
   ]
  },
  {
   "cell_type": "code",
   "execution_count": 17,
   "id": "4bdf6dbc",
   "metadata": {},
   "outputs": [],
   "source": [
    "values = [12, 134, 10, 47, 100, 20, 50, 160, 210]"
   ]
  },
  {
   "cell_type": "code",
   "execution_count": 18,
   "id": "6f8ecb97",
   "metadata": {},
   "outputs": [],
   "source": [
    "tens =[]"
   ]
  },
  {
   "cell_type": "code",
   "execution_count": 19,
   "id": "c3ef5638",
   "metadata": {},
   "outputs": [],
   "source": [
    "for value in values:\n",
    "    if (value % 10) == 0:\n",
    "        tens.append(value)"
   ]
  },
  {
   "cell_type": "code",
   "execution_count": 20,
   "id": "8237b486",
   "metadata": {},
   "outputs": [
    {
     "data": {
      "text/plain": [
       "[10, 100, 20, 50, 160, 210]"
      ]
     },
     "execution_count": 20,
     "metadata": {},
     "output_type": "execute_result"
    }
   ],
   "source": [
    "tens"
   ]
  },
  {
   "cell_type": "markdown",
   "id": "176d4c24",
   "metadata": {},
   "source": [
    "Реализуйте цикл, который пробегается по списку workers со значениями как в 2-ом и 6-ом заданиях, и выводит для каждого сотрудника строку (то есть печатает её для каждого элемента списка)\n",
    "\n",
    "user_name user_family is position\n",
    "\n",
    "где user_name и user_family - имя и фамилия сотрудника, а position - одна из следующих строк\n",
    "\n",
    "    'junior' - стаж меньше 2 лет\n",
    "    'middle' - стаж больше либо равен 2 лет\n",
    "    'senior' - стаж больше 5 лет \n",
    "\n",
    "Пример данных, которые могут быть в workers"
   ]
  },
  {
   "cell_type": "code",
   "execution_count": 21,
   "id": "ac5e2c95",
   "metadata": {},
   "outputs": [],
   "source": [
    "workers = ['Olya', 'Silyutina', 350000.0, 3], \\\n",
    "         ['Vladimir', 'Sihskanov', 450000.5, 2], \\\n",
    "         ['Oleg', 'Petrov', 300000.0, 1,], \\\n",
    "         ['Nata', 'Osokina', 550000.5, 5]\n"
   ]
  },
  {
   "cell_type": "code",
   "execution_count": 22,
   "id": "143af0b7",
   "metadata": {},
   "outputs": [],
   "source": [
    "worker = workers[1]"
   ]
  },
  {
   "cell_type": "code",
   "execution_count": 23,
   "id": "37e488c5",
   "metadata": {},
   "outputs": [
    {
     "name": "stdout",
     "output_type": "stream",
     "text": [
      "Olya Silyutina is middle\n",
      "Vladimir Sihskanov is middle\n",
      "Oleg Petrov is junior\n",
      "Nata Osokina is middle\n"
     ]
    }
   ],
   "source": [
    "for worker in workers:        \n",
    "    status = '{} {} is {}'\n",
    "    experience = worker[-1]\n",
    "    \n",
    "    if experience < 2:\n",
    "        position = 'junior'\n",
    "    elif experience <=5:\n",
    "        position = 'middle'\n",
    "    else:\n",
    "        position = 'senior'\n",
    "\n",
    "    status = status.format(worker[0], worker[1], position)\n",
    "    print(status)"
   ]
  },
  {
   "cell_type": "code",
   "execution_count": null,
   "id": "bfead295",
   "metadata": {},
   "outputs": [],
   "source": []
  },
  {
   "cell_type": "markdown",
   "id": "cc3cc866",
   "metadata": {},
   "source": [
    "Поместите в список lst числа от 0 (n = 0) до 10 включительно (N = 10) c шагом 2 (dn = 2). Для этого используйте условие while.\n",
    "\n",
    "Note: необходимо создать переменную lst, а переменные n, N, dn создавать не нужно."
   ]
  },
  {
   "cell_type": "markdown",
   "id": "bccd9a3a",
   "metadata": {},
   "source": [
    "# while\n",
    "Изменение усвий в цикле, если не менять условие, то цикл становится бесконечным, а вывод цикла не меняется\n",
    "\n",
    "Поэтому всегда в тело цикла в конце нужно добавлять счетчик. И еще теорию для закрепления\n",
    "\n",
    "Методы списков\n",
    "* list.append(x) — позволяет добавлять элемент в конец списка;\n",
    "* list1.extend(list2) — предназначен для сложения списков;\n",
    "* list.insert(i, x) — служит для добавления элемента на указанную позицию(i — позиция, x — элемент);\n",
    "* list.remove(x) — удаляет элемент из списка (только первое вхождение);\n",
    "* list.clear() — предназначен для удаления всех элементов (после этой операции список становится пустым []);\n",
    "* list.copy() — служит для копирования списков.\n",
    "* list.count(x) — посчитает количество элементов x в списке;\n",
    "* list.index(x) — вернет позицию первого найденного элемента x в списке;\n",
    "* list.pop(i) — удалит элемент из позиции i ;\n",
    "* list.reverse() — меняет порядок элементов в списке на противоположный;\n",
    "* list.sort() — сортирует список."
   ]
  },
  {
   "cell_type": "code",
   "execution_count": 26,
   "id": "b535bb7c",
   "metadata": {},
   "outputs": [],
   "source": [
    "lst  = []"
   ]
  },
  {
   "cell_type": "code",
   "execution_count": 27,
   "id": "d0f73adb",
   "metadata": {},
   "outputs": [],
   "source": [
    "lst = list()"
   ]
  },
  {
   "cell_type": "code",
   "execution_count": 28,
   "id": "530f6ba4",
   "metadata": {},
   "outputs": [
    {
     "name": "stdout",
     "output_type": "stream",
     "text": [
      "1\n",
      "3\n",
      "5\n"
     ]
    }
   ],
   "source": [
    "a = 1\n",
    "while a < 6:\n",
    "    print(a)\n",
    "    a += 2 # шаг 2"
   ]
  },
  {
   "cell_type": "code",
   "execution_count": null,
   "id": "12d9cf58",
   "metadata": {},
   "outputs": [],
   "source": []
  }
 ],
 "metadata": {
  "kernelspec": {
   "display_name": "Python 3 (ipykernel)",
   "language": "python",
   "name": "python3"
  },
  "language_info": {
   "codemirror_mode": {
    "name": "ipython",
    "version": 3
   },
   "file_extension": ".py",
   "mimetype": "text/x-python",
   "name": "python",
   "nbconvert_exporter": "python",
   "pygments_lexer": "ipython3",
   "version": "3.9.7"
  }
 },
 "nbformat": 4,
 "nbformat_minor": 5
}
